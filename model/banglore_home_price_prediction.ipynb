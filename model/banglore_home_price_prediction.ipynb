{
 "cells": [
  {
   "cell_type": "markdown",
   "metadata": {},
   "source": [
    "# Data Science Regression Project: Predicting Home Prices in Banglore"
   ]
  },
  {
   "cell_type": "markdown",
   "metadata": {},
   "source": [
    "Dataset is used from here: https://www.kaggle.com/amitabhajoy/bengaluru-house-price-data"
   ]
  },
  {
   "cell_type": "code",
   "execution_count": 1,
   "metadata": {
    "_cell_guid": "b1076dfc-b9ad-4769-8c92-a6c4dae69d19",
    "_uuid": "8f2839f25d086af736a60e9eeb907d3b93b6e0e5",
    "execution": {
     "iopub.execute_input": "2021-09-10T08:00:49.357831Z",
     "iopub.status.busy": "2021-09-10T08:00:49.357410Z",
     "iopub.status.idle": "2021-09-10T08:00:49.376749Z",
     "shell.execute_reply": "2021-09-10T08:00:49.375919Z",
     "shell.execute_reply.started": "2021-09-10T08:00:49.357729Z"
    }
   },
   "outputs": [
    {
     "name": "stdout",
     "output_type": "stream",
     "text": [
      "/kaggle/input/bengaluru-house-price-data/Bengaluru_House_Data.csv\n"
     ]
    }
   ],
   "source": [
    "# This Python 3 environment comes with many helpful analytics libraries installed\n",
    "# It is defined by the kaggle/python Docker image: https://github.com/kaggle/docker-python\n",
    "# For example, here's several helpful packages to load\n",
    "\n",
    "import numpy as np # linear algebra\n",
    "import pandas as pd # data processing, CSV file I/O (e.g. pd.read_csv)\n",
    "pd.options.display.float_format = '{:.2f}'.format #suppressing any scientific numerical notation\n",
    "\n",
    "# Input data files are available in the read-only \"../input/\" directory\n",
    "# For example, running this (by clicking run or pressing Shift+Enter) will list all files under the input directory\n",
    "\n",
    "import os\n",
    "for dirname, _, filenames in os.walk('/kaggle/input'):\n",
    "    for filename in filenames:\n",
    "        print(os.path.join(dirname, filename))\n",
    "\n",
    "# You can write up to 20GB to the current directory (/kaggle/working/) that gets preserved as output when you create a version using \"Save & Run All\" \n",
    "# You can also write temporary files to /kaggle/temp/, but they won't be saved outside of the current session"
   ]
  },
  {
   "cell_type": "code",
   "execution_count": 2,
   "metadata": {
    "execution": {
     "iopub.execute_input": "2021-09-10T08:00:49.378419Z",
     "iopub.status.busy": "2021-09-10T08:00:49.378165Z",
     "iopub.status.idle": "2021-09-10T08:00:49.387633Z",
     "shell.execute_reply": "2021-09-10T08:00:49.386812Z",
     "shell.execute_reply.started": "2021-09-10T08:00:49.378395Z"
    }
   },
   "outputs": [],
   "source": [
    "import matplotlib.pyplot as plt\n",
    "%matplotlib inline\n",
    "import matplotlib\n",
    "matplotlib.rcParams['figure.figsize']=(20,10)"
   ]
  },
  {
   "cell_type": "markdown",
   "metadata": {},
   "source": [
    "import data as dataFrame from csv"
   ]
  },
  {
   "cell_type": "code",
   "execution_count": 3,
   "metadata": {
    "execution": {
     "iopub.execute_input": "2021-09-10T08:00:49.390594Z",
     "iopub.status.busy": "2021-09-10T08:00:49.390357Z",
     "iopub.status.idle": "2021-09-10T08:00:49.528192Z",
     "shell.execute_reply": "2021-09-10T08:00:49.527245Z",
     "shell.execute_reply.started": "2021-09-10T08:00:49.390572Z"
    }
   },
   "outputs": [
    {
     "data": {
      "text/html": [
       "<div>\n",
       "<style scoped>\n",
       "    .dataframe tbody tr th:only-of-type {\n",
       "        vertical-align: middle;\n",
       "    }\n",
       "\n",
       "    .dataframe tbody tr th {\n",
       "        vertical-align: top;\n",
       "    }\n",
       "\n",
       "    .dataframe thead th {\n",
       "        text-align: right;\n",
       "    }\n",
       "</style>\n",
       "<table border=\"1\" class=\"dataframe\">\n",
       "  <thead>\n",
       "    <tr style=\"text-align: right;\">\n",
       "      <th></th>\n",
       "      <th>area_type</th>\n",
       "      <th>availability</th>\n",
       "      <th>location</th>\n",
       "      <th>size</th>\n",
       "      <th>society</th>\n",
       "      <th>total_sqft</th>\n",
       "      <th>bath</th>\n",
       "      <th>balcony</th>\n",
       "      <th>price</th>\n",
       "    </tr>\n",
       "  </thead>\n",
       "  <tbody>\n",
       "    <tr>\n",
       "      <th>0</th>\n",
       "      <td>Super built-up  Area</td>\n",
       "      <td>19-Dec</td>\n",
       "      <td>Electronic City Phase II</td>\n",
       "      <td>2 BHK</td>\n",
       "      <td>Coomee</td>\n",
       "      <td>1056</td>\n",
       "      <td>2.00</td>\n",
       "      <td>1.00</td>\n",
       "      <td>39.07</td>\n",
       "    </tr>\n",
       "    <tr>\n",
       "      <th>1</th>\n",
       "      <td>Plot  Area</td>\n",
       "      <td>Ready To Move</td>\n",
       "      <td>Chikka Tirupathi</td>\n",
       "      <td>4 Bedroom</td>\n",
       "      <td>Theanmp</td>\n",
       "      <td>2600</td>\n",
       "      <td>5.00</td>\n",
       "      <td>3.00</td>\n",
       "      <td>120.00</td>\n",
       "    </tr>\n",
       "    <tr>\n",
       "      <th>2</th>\n",
       "      <td>Built-up  Area</td>\n",
       "      <td>Ready To Move</td>\n",
       "      <td>Uttarahalli</td>\n",
       "      <td>3 BHK</td>\n",
       "      <td>NaN</td>\n",
       "      <td>1440</td>\n",
       "      <td>2.00</td>\n",
       "      <td>3.00</td>\n",
       "      <td>62.00</td>\n",
       "    </tr>\n",
       "    <tr>\n",
       "      <th>3</th>\n",
       "      <td>Super built-up  Area</td>\n",
       "      <td>Ready To Move</td>\n",
       "      <td>Lingadheeranahalli</td>\n",
       "      <td>3 BHK</td>\n",
       "      <td>Soiewre</td>\n",
       "      <td>1521</td>\n",
       "      <td>3.00</td>\n",
       "      <td>1.00</td>\n",
       "      <td>95.00</td>\n",
       "    </tr>\n",
       "    <tr>\n",
       "      <th>4</th>\n",
       "      <td>Super built-up  Area</td>\n",
       "      <td>Ready To Move</td>\n",
       "      <td>Kothanur</td>\n",
       "      <td>2 BHK</td>\n",
       "      <td>NaN</td>\n",
       "      <td>1200</td>\n",
       "      <td>2.00</td>\n",
       "      <td>1.00</td>\n",
       "      <td>51.00</td>\n",
       "    </tr>\n",
       "  </tbody>\n",
       "</table>\n",
       "</div>"
      ],
      "text/plain": [
       "              area_type   availability                  location       size  \\\n",
       "0  Super built-up  Area         19-Dec  Electronic City Phase II      2 BHK   \n",
       "1            Plot  Area  Ready To Move          Chikka Tirupathi  4 Bedroom   \n",
       "2        Built-up  Area  Ready To Move               Uttarahalli      3 BHK   \n",
       "3  Super built-up  Area  Ready To Move        Lingadheeranahalli      3 BHK   \n",
       "4  Super built-up  Area  Ready To Move                  Kothanur      2 BHK   \n",
       "\n",
       "   society total_sqft  bath  balcony  price  \n",
       "0  Coomee        1056  2.00     1.00  39.07  \n",
       "1  Theanmp       2600  5.00     3.00 120.00  \n",
       "2      NaN       1440  2.00     3.00  62.00  \n",
       "3  Soiewre       1521  3.00     1.00  95.00  \n",
       "4      NaN       1200  2.00     1.00  51.00  "
      ]
     },
     "execution_count": 3,
     "metadata": {},
     "output_type": "execute_result"
    }
   ],
   "source": [
    "df = pd.read_csv('../input/bengaluru-house-price-data/Bengaluru_House_Data.csv')\n",
    "df.head()"
   ]
  },
  {
   "cell_type": "markdown",
   "metadata": {},
   "source": [
    "Checking Shape of DataFrame"
   ]
  },
  {
   "cell_type": "code",
   "execution_count": 4,
   "metadata": {
    "execution": {
     "iopub.execute_input": "2021-09-10T08:00:49.530035Z",
     "iopub.status.busy": "2021-09-10T08:00:49.529704Z",
     "iopub.status.idle": "2021-09-10T08:00:49.535793Z",
     "shell.execute_reply": "2021-09-10T08:00:49.534878Z",
     "shell.execute_reply.started": "2021-09-10T08:00:49.530000Z"
    }
   },
   "outputs": [
    {
     "data": {
      "text/plain": [
       "(13320, 9)"
      ]
     },
     "execution_count": 4,
     "metadata": {},
     "output_type": "execute_result"
    }
   ],
   "source": [
    "df.shape"
   ]
  },
  {
   "cell_type": "markdown",
   "metadata": {},
   "source": [
    "Okay!! The Data is enough for prediction<br>\n",
    "Now, check the Features in DataFrame. Which are important and which are not?<br>\n",
    "check for the null values<br>"
   ]
  },
  {
   "cell_type": "code",
   "execution_count": 5,
   "metadata": {
    "execution": {
     "iopub.execute_input": "2021-09-10T08:00:49.538745Z",
     "iopub.status.busy": "2021-09-10T08:00:49.537955Z",
     "iopub.status.idle": "2021-09-10T08:00:49.555419Z",
     "shell.execute_reply": "2021-09-10T08:00:49.554389Z",
     "shell.execute_reply.started": "2021-09-10T08:00:49.538707Z"
    }
   },
   "outputs": [
    {
     "data": {
      "text/plain": [
       "area_type\n",
       "Built-up  Area          2418\n",
       "Carpet  Area              87\n",
       "Plot  Area              2025\n",
       "Super built-up  Area    8790\n",
       "Name: area_type, dtype: int64"
      ]
     },
     "execution_count": 5,
     "metadata": {},
     "output_type": "execute_result"
    }
   ],
   "source": [
    "df.groupby('area_type')['area_type'].agg('count')"
   ]
  },
  {
   "cell_type": "markdown",
   "metadata": {},
   "source": [
    "Drop features that are not required to build our model"
   ]
  },
  {
   "cell_type": "code",
   "execution_count": 6,
   "metadata": {
    "execution": {
     "iopub.execute_input": "2021-09-10T08:00:49.557421Z",
     "iopub.status.busy": "2021-09-10T08:00:49.556950Z",
     "iopub.status.idle": "2021-09-10T08:00:49.571465Z",
     "shell.execute_reply": "2021-09-10T08:00:49.570305Z",
     "shell.execute_reply.started": "2021-09-10T08:00:49.557382Z"
    }
   },
   "outputs": [
    {
     "data": {
      "text/html": [
       "<div>\n",
       "<style scoped>\n",
       "    .dataframe tbody tr th:only-of-type {\n",
       "        vertical-align: middle;\n",
       "    }\n",
       "\n",
       "    .dataframe tbody tr th {\n",
       "        vertical-align: top;\n",
       "    }\n",
       "\n",
       "    .dataframe thead th {\n",
       "        text-align: right;\n",
       "    }\n",
       "</style>\n",
       "<table border=\"1\" class=\"dataframe\">\n",
       "  <thead>\n",
       "    <tr style=\"text-align: right;\">\n",
       "      <th></th>\n",
       "      <th>location</th>\n",
       "      <th>size</th>\n",
       "      <th>total_sqft</th>\n",
       "      <th>bath</th>\n",
       "      <th>price</th>\n",
       "    </tr>\n",
       "  </thead>\n",
       "  <tbody>\n",
       "    <tr>\n",
       "      <th>0</th>\n",
       "      <td>Electronic City Phase II</td>\n",
       "      <td>2 BHK</td>\n",
       "      <td>1056</td>\n",
       "      <td>2.00</td>\n",
       "      <td>39.07</td>\n",
       "    </tr>\n",
       "    <tr>\n",
       "      <th>1</th>\n",
       "      <td>Chikka Tirupathi</td>\n",
       "      <td>4 Bedroom</td>\n",
       "      <td>2600</td>\n",
       "      <td>5.00</td>\n",
       "      <td>120.00</td>\n",
       "    </tr>\n",
       "    <tr>\n",
       "      <th>2</th>\n",
       "      <td>Uttarahalli</td>\n",
       "      <td>3 BHK</td>\n",
       "      <td>1440</td>\n",
       "      <td>2.00</td>\n",
       "      <td>62.00</td>\n",
       "    </tr>\n",
       "    <tr>\n",
       "      <th>3</th>\n",
       "      <td>Lingadheeranahalli</td>\n",
       "      <td>3 BHK</td>\n",
       "      <td>1521</td>\n",
       "      <td>3.00</td>\n",
       "      <td>95.00</td>\n",
       "    </tr>\n",
       "    <tr>\n",
       "      <th>4</th>\n",
       "      <td>Kothanur</td>\n",
       "      <td>2 BHK</td>\n",
       "      <td>1200</td>\n",
       "      <td>2.00</td>\n",
       "      <td>51.00</td>\n",
       "    </tr>\n",
       "  </tbody>\n",
       "</table>\n",
       "</div>"
      ],
      "text/plain": [
       "                   location       size total_sqft  bath  price\n",
       "0  Electronic City Phase II      2 BHK       1056  2.00  39.07\n",
       "1          Chikka Tirupathi  4 Bedroom       2600  5.00 120.00\n",
       "2               Uttarahalli      3 BHK       1440  2.00  62.00\n",
       "3        Lingadheeranahalli      3 BHK       1521  3.00  95.00\n",
       "4                  Kothanur      2 BHK       1200  2.00  51.00"
      ]
     },
     "execution_count": 6,
     "metadata": {},
     "output_type": "execute_result"
    }
   ],
   "source": [
    "df2 = df.drop(['area_type','availability','balcony','society'],axis='columns')\n",
    "df2.head()"
   ]
  },
  {
   "cell_type": "markdown",
   "metadata": {
    "execution": {
     "iopub.execute_input": "2021-09-07T16:59:13.940601Z",
     "iopub.status.busy": "2021-09-07T16:59:13.940097Z",
     "iopub.status.idle": "2021-09-07T16:59:13.948262Z",
     "shell.execute_reply": "2021-09-07T16:59:13.946557Z",
     "shell.execute_reply.started": "2021-09-07T16:59:13.940545Z"
    }
   },
   "source": [
    "Unnecessary Features are dropped <br>\n",
    "To keep model simple we have only choosed handful of features"
   ]
  },
  {
   "cell_type": "markdown",
   "metadata": {
    "execution": {
     "iopub.execute_input": "2021-09-07T17:00:53.170747Z",
     "iopub.status.busy": "2021-09-07T17:00:53.170355Z",
     "iopub.status.idle": "2021-09-07T17:00:53.178662Z",
     "shell.execute_reply": "2021-09-07T17:00:53.176699Z",
     "shell.execute_reply.started": "2021-09-07T17:00:53.170714Z"
    }
   },
   "source": [
    "Now, comes the process of Cleaning the data"
   ]
  },
  {
   "cell_type": "code",
   "execution_count": 7,
   "metadata": {
    "execution": {
     "iopub.execute_input": "2021-09-10T08:00:49.573521Z",
     "iopub.status.busy": "2021-09-10T08:00:49.572823Z",
     "iopub.status.idle": "2021-09-10T08:00:49.585895Z",
     "shell.execute_reply": "2021-09-10T08:00:49.584768Z",
     "shell.execute_reply.started": "2021-09-10T08:00:49.573483Z"
    }
   },
   "outputs": [
    {
     "data": {
      "text/plain": [
       "location       1\n",
       "size          16\n",
       "total_sqft     0\n",
       "bath          73\n",
       "price          0\n",
       "dtype: int64"
      ]
     },
     "execution_count": 7,
     "metadata": {},
     "output_type": "execute_result"
    }
   ],
   "source": [
    "df2.isnull().sum()"
   ]
  },
  {
   "cell_type": "markdown",
   "metadata": {},
   "source": [
    "NAN values are very less compared to our dataset. So dropping all NAN values."
   ]
  },
  {
   "cell_type": "code",
   "execution_count": 8,
   "metadata": {
    "execution": {
     "iopub.execute_input": "2021-09-10T08:00:49.587826Z",
     "iopub.status.busy": "2021-09-10T08:00:49.587303Z",
     "iopub.status.idle": "2021-09-10T08:00:49.619590Z",
     "shell.execute_reply": "2021-09-10T08:00:49.618887Z",
     "shell.execute_reply.started": "2021-09-10T08:00:49.587790Z"
    }
   },
   "outputs": [
    {
     "data": {
      "text/plain": [
       "location      0\n",
       "size          0\n",
       "total_sqft    0\n",
       "bath          0\n",
       "price         0\n",
       "dtype: int64"
      ]
     },
     "execution_count": 8,
     "metadata": {},
     "output_type": "execute_result"
    }
   ],
   "source": [
    "df3 = df2.dropna()\n",
    "df3.isnull().sum()"
   ]
  },
  {
   "cell_type": "markdown",
   "metadata": {},
   "source": [
    "Dropped all NAN values"
   ]
  },
  {
   "cell_type": "code",
   "execution_count": 9,
   "metadata": {
    "execution": {
     "iopub.execute_input": "2021-09-10T08:00:49.621187Z",
     "iopub.status.busy": "2021-09-10T08:00:49.620835Z",
     "iopub.status.idle": "2021-09-10T08:00:49.626618Z",
     "shell.execute_reply": "2021-09-10T08:00:49.625613Z",
     "shell.execute_reply.started": "2021-09-10T08:00:49.621151Z"
    }
   },
   "outputs": [
    {
     "data": {
      "text/plain": [
       "(13246, 5)"
      ]
     },
     "execution_count": 9,
     "metadata": {},
     "output_type": "execute_result"
    }
   ],
   "source": [
    "df3.shape"
   ]
  },
  {
   "cell_type": "code",
   "execution_count": 10,
   "metadata": {
    "execution": {
     "iopub.execute_input": "2021-09-10T08:00:49.631791Z",
     "iopub.status.busy": "2021-09-10T08:00:49.631519Z",
     "iopub.status.idle": "2021-09-10T08:00:49.638562Z",
     "shell.execute_reply": "2021-09-10T08:00:49.637651Z",
     "shell.execute_reply.started": "2021-09-10T08:00:49.631768Z"
    }
   },
   "outputs": [
    {
     "data": {
      "text/plain": [
       "array(['2 BHK', '4 Bedroom', '3 BHK', '4 BHK', '6 Bedroom', '3 Bedroom',\n",
       "       '1 BHK', '1 RK', '1 Bedroom', '8 Bedroom', '2 Bedroom',\n",
       "       '7 Bedroom', '5 BHK', '7 BHK', '6 BHK', '5 Bedroom', '11 BHK',\n",
       "       '9 BHK', '9 Bedroom', '27 BHK', '10 Bedroom', '11 Bedroom',\n",
       "       '10 BHK', '19 BHK', '16 BHK', '43 Bedroom', '14 BHK', '8 BHK',\n",
       "       '12 Bedroom', '13 BHK', '18 Bedroom'], dtype=object)"
      ]
     },
     "execution_count": 10,
     "metadata": {},
     "output_type": "execute_result"
    }
   ],
   "source": [
    "df3['size'].unique()"
   ]
  },
  {
   "cell_type": "markdown",
   "metadata": {},
   "source": [
    "There are so many unique values of size column, but here we know BHK and Bedroom are just one thing and we even don't need them as string. We can remove the string part Bedroom or BHK and just keep the number for better model computation."
   ]
  },
  {
   "cell_type": "markdown",
   "metadata": {},
   "source": [
    "### Feature Engineering"
   ]
  },
  {
   "cell_type": "code",
   "execution_count": 11,
   "metadata": {
    "execution": {
     "iopub.execute_input": "2021-09-10T08:00:49.650282Z",
     "iopub.status.busy": "2021-09-10T08:00:49.649993Z",
     "iopub.status.idle": "2021-09-10T08:00:49.676599Z",
     "shell.execute_reply": "2021-09-10T08:00:49.675781Z",
     "shell.execute_reply.started": "2021-09-10T08:00:49.650258Z"
    }
   },
   "outputs": [
    {
     "name": "stderr",
     "output_type": "stream",
     "text": [
      "/opt/conda/lib/python3.7/site-packages/ipykernel_launcher.py:1: SettingWithCopyWarning: \n",
      "A value is trying to be set on a copy of a slice from a DataFrame.\n",
      "Try using .loc[row_indexer,col_indexer] = value instead\n",
      "\n",
      "See the caveats in the documentation: https://pandas.pydata.org/pandas-docs/stable/user_guide/indexing.html#returning-a-view-versus-a-copy\n",
      "  \"\"\"Entry point for launching an IPython kernel.\n"
     ]
    },
    {
     "data": {
      "text/html": [
       "<div>\n",
       "<style scoped>\n",
       "    .dataframe tbody tr th:only-of-type {\n",
       "        vertical-align: middle;\n",
       "    }\n",
       "\n",
       "    .dataframe tbody tr th {\n",
       "        vertical-align: top;\n",
       "    }\n",
       "\n",
       "    .dataframe thead th {\n",
       "        text-align: right;\n",
       "    }\n",
       "</style>\n",
       "<table border=\"1\" class=\"dataframe\">\n",
       "  <thead>\n",
       "    <tr style=\"text-align: right;\">\n",
       "      <th></th>\n",
       "      <th>location</th>\n",
       "      <th>size</th>\n",
       "      <th>total_sqft</th>\n",
       "      <th>bath</th>\n",
       "      <th>price</th>\n",
       "      <th>bhk</th>\n",
       "    </tr>\n",
       "  </thead>\n",
       "  <tbody>\n",
       "    <tr>\n",
       "      <th>0</th>\n",
       "      <td>Electronic City Phase II</td>\n",
       "      <td>2 BHK</td>\n",
       "      <td>1056</td>\n",
       "      <td>2.00</td>\n",
       "      <td>39.07</td>\n",
       "      <td>2</td>\n",
       "    </tr>\n",
       "    <tr>\n",
       "      <th>1</th>\n",
       "      <td>Chikka Tirupathi</td>\n",
       "      <td>4 Bedroom</td>\n",
       "      <td>2600</td>\n",
       "      <td>5.00</td>\n",
       "      <td>120.00</td>\n",
       "      <td>4</td>\n",
       "    </tr>\n",
       "    <tr>\n",
       "      <th>2</th>\n",
       "      <td>Uttarahalli</td>\n",
       "      <td>3 BHK</td>\n",
       "      <td>1440</td>\n",
       "      <td>2.00</td>\n",
       "      <td>62.00</td>\n",
       "      <td>3</td>\n",
       "    </tr>\n",
       "    <tr>\n",
       "      <th>3</th>\n",
       "      <td>Lingadheeranahalli</td>\n",
       "      <td>3 BHK</td>\n",
       "      <td>1521</td>\n",
       "      <td>3.00</td>\n",
       "      <td>95.00</td>\n",
       "      <td>3</td>\n",
       "    </tr>\n",
       "    <tr>\n",
       "      <th>4</th>\n",
       "      <td>Kothanur</td>\n",
       "      <td>2 BHK</td>\n",
       "      <td>1200</td>\n",
       "      <td>2.00</td>\n",
       "      <td>51.00</td>\n",
       "      <td>2</td>\n",
       "    </tr>\n",
       "  </tbody>\n",
       "</table>\n",
       "</div>"
      ],
      "text/plain": [
       "                   location       size total_sqft  bath  price  bhk\n",
       "0  Electronic City Phase II      2 BHK       1056  2.00  39.07    2\n",
       "1          Chikka Tirupathi  4 Bedroom       2600  5.00 120.00    4\n",
       "2               Uttarahalli      3 BHK       1440  2.00  62.00    3\n",
       "3        Lingadheeranahalli      3 BHK       1521  3.00  95.00    3\n",
       "4                  Kothanur      2 BHK       1200  2.00  51.00    2"
      ]
     },
     "execution_count": 11,
     "metadata": {},
     "output_type": "execute_result"
    }
   ],
   "source": [
    "df3['bhk'] = df3['size'].apply(lambda x: int(x.split(\" \")[0]))\n",
    "df3.head()"
   ]
  },
  {
   "cell_type": "code",
   "execution_count": 12,
   "metadata": {
    "execution": {
     "iopub.execute_input": "2021-09-10T08:00:49.678225Z",
     "iopub.status.busy": "2021-09-10T08:00:49.677883Z",
     "iopub.status.idle": "2021-09-10T08:00:49.685134Z",
     "shell.execute_reply": "2021-09-10T08:00:49.684310Z",
     "shell.execute_reply.started": "2021-09-10T08:00:49.678191Z"
    }
   },
   "outputs": [
    {
     "data": {
      "text/plain": [
       "array([ 2,  4,  3,  6,  1,  8,  7,  5, 11,  9, 27, 10, 19, 16, 43, 14, 12,\n",
       "       13, 18])"
      ]
     },
     "execution_count": 12,
     "metadata": {},
     "output_type": "execute_result"
    }
   ],
   "source": [
    "df3['bhk'].unique()"
   ]
  },
  {
   "cell_type": "markdown",
   "metadata": {},
   "source": [
    "Woahhh🙄🙄😮!! There are houses with 43 bedrooms also. Check them out..."
   ]
  },
  {
   "cell_type": "code",
   "execution_count": 13,
   "metadata": {
    "execution": {
     "iopub.execute_input": "2021-09-10T08:00:49.745278Z",
     "iopub.status.busy": "2021-09-10T08:00:49.745006Z",
     "iopub.status.idle": "2021-09-10T08:00:49.758427Z",
     "shell.execute_reply": "2021-09-10T08:00:49.757370Z",
     "shell.execute_reply.started": "2021-09-10T08:00:49.745254Z"
    }
   },
   "outputs": [
    {
     "data": {
      "text/html": [
       "<div>\n",
       "<style scoped>\n",
       "    .dataframe tbody tr th:only-of-type {\n",
       "        vertical-align: middle;\n",
       "    }\n",
       "\n",
       "    .dataframe tbody tr th {\n",
       "        vertical-align: top;\n",
       "    }\n",
       "\n",
       "    .dataframe thead th {\n",
       "        text-align: right;\n",
       "    }\n",
       "</style>\n",
       "<table border=\"1\" class=\"dataframe\">\n",
       "  <thead>\n",
       "    <tr style=\"text-align: right;\">\n",
       "      <th></th>\n",
       "      <th>location</th>\n",
       "      <th>size</th>\n",
       "      <th>total_sqft</th>\n",
       "      <th>bath</th>\n",
       "      <th>price</th>\n",
       "      <th>bhk</th>\n",
       "    </tr>\n",
       "  </thead>\n",
       "  <tbody>\n",
       "    <tr>\n",
       "      <th>1718</th>\n",
       "      <td>2Electronic City Phase II</td>\n",
       "      <td>27 BHK</td>\n",
       "      <td>8000</td>\n",
       "      <td>27.00</td>\n",
       "      <td>230.00</td>\n",
       "      <td>27</td>\n",
       "    </tr>\n",
       "    <tr>\n",
       "      <th>4684</th>\n",
       "      <td>Munnekollal</td>\n",
       "      <td>43 Bedroom</td>\n",
       "      <td>2400</td>\n",
       "      <td>40.00</td>\n",
       "      <td>660.00</td>\n",
       "      <td>43</td>\n",
       "    </tr>\n",
       "  </tbody>\n",
       "</table>\n",
       "</div>"
      ],
      "text/plain": [
       "                       location        size total_sqft  bath  price  bhk\n",
       "1718  2Electronic City Phase II      27 BHK       8000 27.00 230.00   27\n",
       "4684                Munnekollal  43 Bedroom       2400 40.00 660.00   43"
      ]
     },
     "execution_count": 13,
     "metadata": {},
     "output_type": "execute_result"
    }
   ],
   "source": [
    "df3[df3.bhk>20]"
   ]
  },
  {
   "cell_type": "markdown",
   "metadata": {},
   "source": [
    "This seems little impossible😅😂. House with 43 bedrooms and just 2400sqft area.<br>\n",
    "Error!!!😬<br>\n",
    "We will check total area column and then if this is really an Error then remove both cells."
   ]
  },
  {
   "cell_type": "code",
   "execution_count": 14,
   "metadata": {
    "execution": {
     "iopub.execute_input": "2021-09-10T08:00:49.760573Z",
     "iopub.status.busy": "2021-09-10T08:00:49.759983Z",
     "iopub.status.idle": "2021-09-10T08:00:49.768980Z",
     "shell.execute_reply": "2021-09-10T08:00:49.768010Z",
     "shell.execute_reply.started": "2021-09-10T08:00:49.760537Z"
    }
   },
   "outputs": [
    {
     "data": {
      "text/plain": [
       "array(['1056', '2600', '1440', ..., '1133 - 1384', '774', '4689'],\n",
       "      dtype=object)"
      ]
     },
     "execution_count": 14,
     "metadata": {},
     "output_type": "execute_result"
    }
   ],
   "source": [
    "df3.total_sqft.unique()"
   ]
  },
  {
   "cell_type": "markdown",
   "metadata": {},
   "source": [
    "Above, there are some values which are in range. We will take average of the range."
   ]
  },
  {
   "cell_type": "code",
   "execution_count": 15,
   "metadata": {
    "execution": {
     "iopub.execute_input": "2021-09-10T08:00:49.771255Z",
     "iopub.status.busy": "2021-09-10T08:00:49.770737Z",
     "iopub.status.idle": "2021-09-10T08:00:49.775549Z",
     "shell.execute_reply": "2021-09-10T08:00:49.774574Z",
     "shell.execute_reply.started": "2021-09-10T08:00:49.771219Z"
    }
   },
   "outputs": [],
   "source": [
    "def is_float(x):\n",
    "    try:\n",
    "        float(x)\n",
    "    except:\n",
    "        return False\n",
    "    return True"
   ]
  },
  {
   "cell_type": "code",
   "execution_count": 16,
   "metadata": {
    "execution": {
     "iopub.execute_input": "2021-09-10T08:00:49.784959Z",
     "iopub.status.busy": "2021-09-10T08:00:49.784725Z",
     "iopub.status.idle": "2021-09-10T08:00:49.802871Z",
     "shell.execute_reply": "2021-09-10T08:00:49.801968Z",
     "shell.execute_reply.started": "2021-09-10T08:00:49.784936Z"
    }
   },
   "outputs": [
    {
     "data": {
      "text/html": [
       "<div>\n",
       "<style scoped>\n",
       "    .dataframe tbody tr th:only-of-type {\n",
       "        vertical-align: middle;\n",
       "    }\n",
       "\n",
       "    .dataframe tbody tr th {\n",
       "        vertical-align: top;\n",
       "    }\n",
       "\n",
       "    .dataframe thead th {\n",
       "        text-align: right;\n",
       "    }\n",
       "</style>\n",
       "<table border=\"1\" class=\"dataframe\">\n",
       "  <thead>\n",
       "    <tr style=\"text-align: right;\">\n",
       "      <th></th>\n",
       "      <th>location</th>\n",
       "      <th>size</th>\n",
       "      <th>total_sqft</th>\n",
       "      <th>bath</th>\n",
       "      <th>price</th>\n",
       "      <th>bhk</th>\n",
       "    </tr>\n",
       "  </thead>\n",
       "  <tbody>\n",
       "    <tr>\n",
       "      <th>30</th>\n",
       "      <td>Yelahanka</td>\n",
       "      <td>4 BHK</td>\n",
       "      <td>2100 - 2850</td>\n",
       "      <td>4.00</td>\n",
       "      <td>186.00</td>\n",
       "      <td>4</td>\n",
       "    </tr>\n",
       "    <tr>\n",
       "      <th>122</th>\n",
       "      <td>Hebbal</td>\n",
       "      <td>4 BHK</td>\n",
       "      <td>3067 - 8156</td>\n",
       "      <td>4.00</td>\n",
       "      <td>477.00</td>\n",
       "      <td>4</td>\n",
       "    </tr>\n",
       "    <tr>\n",
       "      <th>137</th>\n",
       "      <td>8th Phase JP Nagar</td>\n",
       "      <td>2 BHK</td>\n",
       "      <td>1042 - 1105</td>\n",
       "      <td>2.00</td>\n",
       "      <td>54.01</td>\n",
       "      <td>2</td>\n",
       "    </tr>\n",
       "    <tr>\n",
       "      <th>165</th>\n",
       "      <td>Sarjapur</td>\n",
       "      <td>2 BHK</td>\n",
       "      <td>1145 - 1340</td>\n",
       "      <td>2.00</td>\n",
       "      <td>43.49</td>\n",
       "      <td>2</td>\n",
       "    </tr>\n",
       "    <tr>\n",
       "      <th>188</th>\n",
       "      <td>KR Puram</td>\n",
       "      <td>2 BHK</td>\n",
       "      <td>1015 - 1540</td>\n",
       "      <td>2.00</td>\n",
       "      <td>56.80</td>\n",
       "      <td>2</td>\n",
       "    </tr>\n",
       "  </tbody>\n",
       "</table>\n",
       "</div>"
      ],
      "text/plain": [
       "               location   size   total_sqft  bath  price  bhk\n",
       "30            Yelahanka  4 BHK  2100 - 2850  4.00 186.00    4\n",
       "122              Hebbal  4 BHK  3067 - 8156  4.00 477.00    4\n",
       "137  8th Phase JP Nagar  2 BHK  1042 - 1105  2.00  54.01    2\n",
       "165            Sarjapur  2 BHK  1145 - 1340  2.00  43.49    2\n",
       "188            KR Puram  2 BHK  1015 - 1540  2.00  56.80    2"
      ]
     },
     "execution_count": 16,
     "metadata": {},
     "output_type": "execute_result"
    }
   ],
   "source": [
    "df3[~df3['total_sqft'].apply(is_float)].head()"
   ]
  },
  {
   "cell_type": "code",
   "execution_count": 17,
   "metadata": {
    "execution": {
     "iopub.execute_input": "2021-09-10T08:00:49.824845Z",
     "iopub.status.busy": "2021-09-10T08:00:49.824614Z",
     "iopub.status.idle": "2021-09-10T08:00:49.829293Z",
     "shell.execute_reply": "2021-09-10T08:00:49.828354Z",
     "shell.execute_reply.started": "2021-09-10T08:00:49.824823Z"
    }
   },
   "outputs": [],
   "source": [
    "def convert_range_to_num(x):\n",
    "    token=x.split(\"-\")\n",
    "    if len(token)==2:\n",
    "        return (float(token[0])+float(token[1]))/2\n",
    "    try:\n",
    "        return float(x)\n",
    "    except:\n",
    "        return None"
   ]
  },
  {
   "cell_type": "code",
   "execution_count": 18,
   "metadata": {
    "execution": {
     "iopub.execute_input": "2021-09-10T08:00:49.835305Z",
     "iopub.status.busy": "2021-09-10T08:00:49.834859Z",
     "iopub.status.idle": "2021-09-10T08:00:49.843431Z",
     "shell.execute_reply": "2021-09-10T08:00:49.842302Z",
     "shell.execute_reply.started": "2021-09-10T08:00:49.835277Z"
    }
   },
   "outputs": [
    {
     "data": {
      "text/plain": [
       "200.0"
      ]
     },
     "execution_count": 18,
     "metadata": {},
     "output_type": "execute_result"
    }
   ],
   "source": [
    "convert_range_to_num('200')"
   ]
  },
  {
   "cell_type": "code",
   "execution_count": 19,
   "metadata": {
    "execution": {
     "iopub.execute_input": "2021-09-10T08:00:49.845585Z",
     "iopub.status.busy": "2021-09-10T08:00:49.845324Z",
     "iopub.status.idle": "2021-09-10T08:00:49.851565Z",
     "shell.execute_reply": "2021-09-10T08:00:49.850581Z",
     "shell.execute_reply.started": "2021-09-10T08:00:49.845561Z"
    }
   },
   "outputs": [
    {
     "data": {
      "text/plain": [
       "2055.0"
      ]
     },
     "execution_count": 19,
     "metadata": {},
     "output_type": "execute_result"
    }
   ],
   "source": [
    "convert_range_to_num(\"2000-2110\")"
   ]
  },
  {
   "cell_type": "code",
   "execution_count": 20,
   "metadata": {
    "execution": {
     "iopub.execute_input": "2021-09-10T08:00:49.856911Z",
     "iopub.status.busy": "2021-09-10T08:00:49.856643Z",
     "iopub.status.idle": "2021-09-10T08:00:49.860549Z",
     "shell.execute_reply": "2021-09-10T08:00:49.859409Z",
     "shell.execute_reply.started": "2021-09-10T08:00:49.856887Z"
    }
   },
   "outputs": [],
   "source": [
    "convert_range_to_num('2102sq. Meter')"
   ]
  },
  {
   "cell_type": "markdown",
   "metadata": {},
   "source": [
    "Function is working properly. We can apply it on total_sqft column"
   ]
  },
  {
   "cell_type": "code",
   "execution_count": 21,
   "metadata": {
    "execution": {
     "iopub.execute_input": "2021-09-10T08:00:49.905678Z",
     "iopub.status.busy": "2021-09-10T08:00:49.905428Z",
     "iopub.status.idle": "2021-09-10T08:00:49.930196Z",
     "shell.execute_reply": "2021-09-10T08:00:49.929282Z",
     "shell.execute_reply.started": "2021-09-10T08:00:49.905654Z"
    }
   },
   "outputs": [
    {
     "data": {
      "text/html": [
       "<div>\n",
       "<style scoped>\n",
       "    .dataframe tbody tr th:only-of-type {\n",
       "        vertical-align: middle;\n",
       "    }\n",
       "\n",
       "    .dataframe tbody tr th {\n",
       "        vertical-align: top;\n",
       "    }\n",
       "\n",
       "    .dataframe thead th {\n",
       "        text-align: right;\n",
       "    }\n",
       "</style>\n",
       "<table border=\"1\" class=\"dataframe\">\n",
       "  <thead>\n",
       "    <tr style=\"text-align: right;\">\n",
       "      <th></th>\n",
       "      <th>location</th>\n",
       "      <th>size</th>\n",
       "      <th>total_sqft</th>\n",
       "      <th>bath</th>\n",
       "      <th>price</th>\n",
       "      <th>bhk</th>\n",
       "    </tr>\n",
       "  </thead>\n",
       "  <tbody>\n",
       "    <tr>\n",
       "      <th>0</th>\n",
       "      <td>Electronic City Phase II</td>\n",
       "      <td>2 BHK</td>\n",
       "      <td>1056.00</td>\n",
       "      <td>2.00</td>\n",
       "      <td>39.07</td>\n",
       "      <td>2</td>\n",
       "    </tr>\n",
       "    <tr>\n",
       "      <th>1</th>\n",
       "      <td>Chikka Tirupathi</td>\n",
       "      <td>4 Bedroom</td>\n",
       "      <td>2600.00</td>\n",
       "      <td>5.00</td>\n",
       "      <td>120.00</td>\n",
       "      <td>4</td>\n",
       "    </tr>\n",
       "    <tr>\n",
       "      <th>2</th>\n",
       "      <td>Uttarahalli</td>\n",
       "      <td>3 BHK</td>\n",
       "      <td>1440.00</td>\n",
       "      <td>2.00</td>\n",
       "      <td>62.00</td>\n",
       "      <td>3</td>\n",
       "    </tr>\n",
       "    <tr>\n",
       "      <th>3</th>\n",
       "      <td>Lingadheeranahalli</td>\n",
       "      <td>3 BHK</td>\n",
       "      <td>1521.00</td>\n",
       "      <td>3.00</td>\n",
       "      <td>95.00</td>\n",
       "      <td>3</td>\n",
       "    </tr>\n",
       "    <tr>\n",
       "      <th>4</th>\n",
       "      <td>Kothanur</td>\n",
       "      <td>2 BHK</td>\n",
       "      <td>1200.00</td>\n",
       "      <td>2.00</td>\n",
       "      <td>51.00</td>\n",
       "      <td>2</td>\n",
       "    </tr>\n",
       "  </tbody>\n",
       "</table>\n",
       "</div>"
      ],
      "text/plain": [
       "                   location       size  total_sqft  bath  price  bhk\n",
       "0  Electronic City Phase II      2 BHK     1056.00  2.00  39.07    2\n",
       "1          Chikka Tirupathi  4 Bedroom     2600.00  5.00 120.00    4\n",
       "2               Uttarahalli      3 BHK     1440.00  2.00  62.00    3\n",
       "3        Lingadheeranahalli      3 BHK     1521.00  3.00  95.00    3\n",
       "4                  Kothanur      2 BHK     1200.00  2.00  51.00    2"
      ]
     },
     "execution_count": 21,
     "metadata": {},
     "output_type": "execute_result"
    }
   ],
   "source": [
    "df4 = df3.copy()\n",
    "df4['total_sqft'] = df4['total_sqft'].apply(convert_range_to_num)\n",
    "df4.head()"
   ]
  },
  {
   "cell_type": "markdown",
   "metadata": {},
   "source": [
    "Converted range to average in total_sqft column<br>\n",
    "**Data Cleaning DONEEEEEEE!!!!!!!💥💥**"
   ]
  },
  {
   "cell_type": "code",
   "execution_count": 22,
   "metadata": {
    "execution": {
     "iopub.execute_input": "2021-09-10T08:00:49.931973Z",
     "iopub.status.busy": "2021-09-10T08:00:49.931632Z",
     "iopub.status.idle": "2021-09-10T08:00:49.937711Z",
     "shell.execute_reply": "2021-09-10T08:00:49.936785Z",
     "shell.execute_reply.started": "2021-09-10T08:00:49.931939Z"
    }
   },
   "outputs": [],
   "source": [
    "df5 = df4.copy()"
   ]
  },
  {
   "cell_type": "code",
   "execution_count": 23,
   "metadata": {
    "execution": {
     "iopub.execute_input": "2021-09-10T08:00:50.004790Z",
     "iopub.status.busy": "2021-09-10T08:00:50.004542Z",
     "iopub.status.idle": "2021-09-10T08:00:50.020553Z",
     "shell.execute_reply": "2021-09-10T08:00:50.019629Z",
     "shell.execute_reply.started": "2021-09-10T08:00:50.004766Z"
    }
   },
   "outputs": [
    {
     "data": {
      "text/html": [
       "<div>\n",
       "<style scoped>\n",
       "    .dataframe tbody tr th:only-of-type {\n",
       "        vertical-align: middle;\n",
       "    }\n",
       "\n",
       "    .dataframe tbody tr th {\n",
       "        vertical-align: top;\n",
       "    }\n",
       "\n",
       "    .dataframe thead th {\n",
       "        text-align: right;\n",
       "    }\n",
       "</style>\n",
       "<table border=\"1\" class=\"dataframe\">\n",
       "  <thead>\n",
       "    <tr style=\"text-align: right;\">\n",
       "      <th></th>\n",
       "      <th>location</th>\n",
       "      <th>size</th>\n",
       "      <th>total_sqft</th>\n",
       "      <th>bath</th>\n",
       "      <th>price</th>\n",
       "      <th>bhk</th>\n",
       "      <th>price_per_sqft</th>\n",
       "    </tr>\n",
       "  </thead>\n",
       "  <tbody>\n",
       "    <tr>\n",
       "      <th>0</th>\n",
       "      <td>Electronic City Phase II</td>\n",
       "      <td>2 BHK</td>\n",
       "      <td>1056.00</td>\n",
       "      <td>2.00</td>\n",
       "      <td>39.07</td>\n",
       "      <td>2</td>\n",
       "      <td>3699.81</td>\n",
       "    </tr>\n",
       "    <tr>\n",
       "      <th>1</th>\n",
       "      <td>Chikka Tirupathi</td>\n",
       "      <td>4 Bedroom</td>\n",
       "      <td>2600.00</td>\n",
       "      <td>5.00</td>\n",
       "      <td>120.00</td>\n",
       "      <td>4</td>\n",
       "      <td>4615.38</td>\n",
       "    </tr>\n",
       "    <tr>\n",
       "      <th>2</th>\n",
       "      <td>Uttarahalli</td>\n",
       "      <td>3 BHK</td>\n",
       "      <td>1440.00</td>\n",
       "      <td>2.00</td>\n",
       "      <td>62.00</td>\n",
       "      <td>3</td>\n",
       "      <td>4305.56</td>\n",
       "    </tr>\n",
       "    <tr>\n",
       "      <th>3</th>\n",
       "      <td>Lingadheeranahalli</td>\n",
       "      <td>3 BHK</td>\n",
       "      <td>1521.00</td>\n",
       "      <td>3.00</td>\n",
       "      <td>95.00</td>\n",
       "      <td>3</td>\n",
       "      <td>6245.89</td>\n",
       "    </tr>\n",
       "    <tr>\n",
       "      <th>4</th>\n",
       "      <td>Kothanur</td>\n",
       "      <td>2 BHK</td>\n",
       "      <td>1200.00</td>\n",
       "      <td>2.00</td>\n",
       "      <td>51.00</td>\n",
       "      <td>2</td>\n",
       "      <td>4250.00</td>\n",
       "    </tr>\n",
       "  </tbody>\n",
       "</table>\n",
       "</div>"
      ],
      "text/plain": [
       "                   location       size  total_sqft  bath  price  bhk  \\\n",
       "0  Electronic City Phase II      2 BHK     1056.00  2.00  39.07    2   \n",
       "1          Chikka Tirupathi  4 Bedroom     2600.00  5.00 120.00    4   \n",
       "2               Uttarahalli      3 BHK     1440.00  2.00  62.00    3   \n",
       "3        Lingadheeranahalli      3 BHK     1521.00  3.00  95.00    3   \n",
       "4                  Kothanur      2 BHK     1200.00  2.00  51.00    2   \n",
       "\n",
       "   price_per_sqft  \n",
       "0         3699.81  \n",
       "1         4615.38  \n",
       "2         4305.56  \n",
       "3         6245.89  \n",
       "4         4250.00  "
      ]
     },
     "execution_count": 23,
     "metadata": {},
     "output_type": "execute_result"
    }
   ],
   "source": [
    "df5['price_per_sqft'] = df5['price']*100000/df5['total_sqft']\n",
    "df5.head()"
   ]
  },
  {
   "cell_type": "code",
   "execution_count": 24,
   "metadata": {
    "execution": {
     "iopub.execute_input": "2021-09-10T08:00:50.023568Z",
     "iopub.status.busy": "2021-09-10T08:00:50.023224Z",
     "iopub.status.idle": "2021-09-10T08:00:50.031484Z",
     "shell.execute_reply": "2021-09-10T08:00:50.030524Z",
     "shell.execute_reply.started": "2021-09-10T08:00:50.023534Z"
    }
   },
   "outputs": [
    {
     "data": {
      "text/plain": [
       "1304"
      ]
     },
     "execution_count": 24,
     "metadata": {},
     "output_type": "execute_result"
    }
   ],
   "source": [
    "len(df5['location'].unique())"
   ]
  },
  {
   "cell_type": "markdown",
   "metadata": {},
   "source": [
    "This number is large for one-hot-encoding. One Hot Encoding can't be applied here<br>\n",
    "This situation is called **Dimensionality curse**(High dimenionality problem)<br>\n"
   ]
  },
  {
   "cell_type": "code",
   "execution_count": 25,
   "metadata": {
    "execution": {
     "iopub.execute_input": "2021-09-10T08:00:50.065275Z",
     "iopub.status.busy": "2021-09-10T08:00:50.064972Z",
     "iopub.status.idle": "2021-09-10T08:00:50.079448Z",
     "shell.execute_reply": "2021-09-10T08:00:50.078488Z",
     "shell.execute_reply.started": "2021-09-10T08:00:50.065249Z"
    }
   },
   "outputs": [],
   "source": [
    "df5['location'] = df5.location.apply(lambda x: x.strip())\n",
    "location_stats = df5.groupby('location')['location'].agg('count')"
   ]
  },
  {
   "cell_type": "code",
   "execution_count": 26,
   "metadata": {
    "execution": {
     "iopub.execute_input": "2021-09-10T08:00:50.081315Z",
     "iopub.status.busy": "2021-09-10T08:00:50.080939Z",
     "iopub.status.idle": "2021-09-10T08:00:50.088726Z",
     "shell.execute_reply": "2021-09-10T08:00:50.087830Z",
     "shell.execute_reply.started": "2021-09-10T08:00:50.081281Z"
    }
   },
   "outputs": [
    {
     "data": {
      "text/plain": [
       "location\n",
       "1 Annasandrapalya                                  1\n",
       "1 Giri Nagar                                       1\n",
       "1 Immadihalli                                      1\n",
       "1 Ramamurthy Nagar                                 1\n",
       "12th cross srinivas nagar banshankari 3rd stage    1\n",
       "                                                  ..\n",
       "t.c palya                                          1\n",
       "tc.palya                                           4\n",
       "vinayakanagar                                      1\n",
       "white field,kadugodi                               1\n",
       "whitefiled                                         1\n",
       "Name: location, Length: 1293, dtype: int64"
      ]
     },
     "execution_count": 26,
     "metadata": {},
     "output_type": "execute_result"
    }
   ],
   "source": [
    "location_stats"
   ]
  },
  {
   "cell_type": "code",
   "execution_count": 27,
   "metadata": {
    "execution": {
     "iopub.execute_input": "2021-09-10T08:00:50.091090Z",
     "iopub.status.busy": "2021-09-10T08:00:50.090478Z",
     "iopub.status.idle": "2021-09-10T08:00:50.100394Z",
     "shell.execute_reply": "2021-09-10T08:00:50.099508Z",
     "shell.execute_reply.started": "2021-09-10T08:00:50.090998Z"
    }
   },
   "outputs": [
    {
     "data": {
      "text/plain": [
       "location\n",
       "Whitefield               535\n",
       "Sarjapur  Road           392\n",
       "Electronic City          304\n",
       "Kanakpura Road           266\n",
       "Thanisandra              236\n",
       "                        ... \n",
       "1 Giri Nagar               1\n",
       "Kanakapura Road,           1\n",
       "Kanakapura main  Road      1\n",
       "Karnataka Shabarimala      1\n",
       "whitefiled                 1\n",
       "Name: location, Length: 1293, dtype: int64"
      ]
     },
     "execution_count": 27,
     "metadata": {},
     "output_type": "execute_result"
    }
   ],
   "source": [
    "location_stats.sort_values(ascending = False)"
   ]
  },
  {
   "cell_type": "markdown",
   "metadata": {},
   "source": [
    "There are many locations with less or around 1 occurence. We can conclude them in a new **'other'** category"
   ]
  },
  {
   "cell_type": "code",
   "execution_count": 28,
   "metadata": {
    "execution": {
     "iopub.execute_input": "2021-09-10T08:00:50.103297Z",
     "iopub.status.busy": "2021-09-10T08:00:50.102963Z",
     "iopub.status.idle": "2021-09-10T08:00:50.109482Z",
     "shell.execute_reply": "2021-09-10T08:00:50.108526Z",
     "shell.execute_reply.started": "2021-09-10T08:00:50.103266Z"
    }
   },
   "outputs": [
    {
     "data": {
      "text/plain": [
       "1052"
      ]
     },
     "execution_count": 28,
     "metadata": {},
     "output_type": "execute_result"
    }
   ],
   "source": [
    "len(location_stats[location_stats<=10])"
   ]
  },
  {
   "cell_type": "code",
   "execution_count": 29,
   "metadata": {
    "execution": {
     "iopub.execute_input": "2021-09-10T08:00:50.111761Z",
     "iopub.status.busy": "2021-09-10T08:00:50.111189Z",
     "iopub.status.idle": "2021-09-10T08:00:50.119419Z",
     "shell.execute_reply": "2021-09-10T08:00:50.118494Z",
     "shell.execute_reply.started": "2021-09-10T08:00:50.111691Z"
    }
   },
   "outputs": [
    {
     "data": {
      "text/plain": [
       "1112"
      ]
     },
     "execution_count": 29,
     "metadata": {},
     "output_type": "execute_result"
    }
   ],
   "source": [
    "len(location_stats[location_stats<=15])"
   ]
  },
  {
   "cell_type": "code",
   "execution_count": 30,
   "metadata": {
    "execution": {
     "iopub.execute_input": "2021-09-10T08:00:50.144884Z",
     "iopub.status.busy": "2021-09-10T08:00:50.144651Z",
     "iopub.status.idle": "2021-09-10T08:00:50.152352Z",
     "shell.execute_reply": "2021-09-10T08:00:50.151301Z",
     "shell.execute_reply.started": "2021-09-10T08:00:50.144861Z"
    }
   },
   "outputs": [
    {
     "data": {
      "text/plain": [
       "location\n",
       "1 Annasandrapalya                                  1\n",
       "1 Giri Nagar                                       1\n",
       "1 Immadihalli                                      1\n",
       "1 Ramamurthy Nagar                                 1\n",
       "12th cross srinivas nagar banshankari 3rd stage    1\n",
       "                                                  ..\n",
       "t.c palya                                          1\n",
       "tc.palya                                           4\n",
       "vinayakanagar                                      1\n",
       "white field,kadugodi                               1\n",
       "whitefiled                                         1\n",
       "Name: location, Length: 1112, dtype: int64"
      ]
     },
     "execution_count": 30,
     "metadata": {},
     "output_type": "execute_result"
    }
   ],
   "source": [
    "location_less_than_15 = location_stats[location_stats<=15]\n",
    "location_less_than_15"
   ]
  },
  {
   "cell_type": "code",
   "execution_count": 31,
   "metadata": {
    "execution": {
     "iopub.execute_input": "2021-09-10T08:00:50.260368Z",
     "iopub.status.busy": "2021-09-10T08:00:50.260030Z",
     "iopub.status.idle": "2021-09-10T08:00:50.269818Z",
     "shell.execute_reply": "2021-09-10T08:00:50.268215Z",
     "shell.execute_reply.started": "2021-09-10T08:00:50.260337Z"
    }
   },
   "outputs": [
    {
     "data": {
      "text/plain": [
       "1293"
      ]
     },
     "execution_count": 31,
     "metadata": {},
     "output_type": "execute_result"
    }
   ],
   "source": [
    "len(df5.location.unique())"
   ]
  },
  {
   "cell_type": "code",
   "execution_count": 32,
   "metadata": {
    "execution": {
     "iopub.execute_input": "2021-09-10T08:00:50.272180Z",
     "iopub.status.busy": "2021-09-10T08:00:50.271618Z",
     "iopub.status.idle": "2021-09-10T08:00:50.297607Z",
     "shell.execute_reply": "2021-09-10T08:00:50.296648Z",
     "shell.execute_reply.started": "2021-09-10T08:00:50.272145Z"
    }
   },
   "outputs": [],
   "source": [
    "df5.location = df5.location.apply(lambda x: 'other' if x in location_less_than_15 else x)"
   ]
  },
  {
   "cell_type": "code",
   "execution_count": 33,
   "metadata": {
    "execution": {
     "iopub.execute_input": "2021-09-10T08:00:50.299801Z",
     "iopub.status.busy": "2021-09-10T08:00:50.299411Z",
     "iopub.status.idle": "2021-09-10T08:00:50.309160Z",
     "shell.execute_reply": "2021-09-10T08:00:50.308181Z",
     "shell.execute_reply.started": "2021-09-10T08:00:50.299766Z"
    }
   },
   "outputs": [
    {
     "data": {
      "text/plain": [
       "182"
      ]
     },
     "execution_count": 33,
     "metadata": {},
     "output_type": "execute_result"
    }
   ],
   "source": [
    "len(df5.location.unique())"
   ]
  },
  {
   "cell_type": "markdown",
   "metadata": {},
   "source": [
    "Okay!! This is a big reduction. We can now apply one-hot-encoding."
   ]
  },
  {
   "cell_type": "code",
   "execution_count": 34,
   "metadata": {
    "execution": {
     "iopub.execute_input": "2021-09-10T08:00:50.311348Z",
     "iopub.status.busy": "2021-09-10T08:00:50.310953Z",
     "iopub.status.idle": "2021-09-10T08:00:50.328214Z",
     "shell.execute_reply": "2021-09-10T08:00:50.327250Z",
     "shell.execute_reply.started": "2021-09-10T08:00:50.311311Z"
    }
   },
   "outputs": [
    {
     "data": {
      "text/html": [
       "<div>\n",
       "<style scoped>\n",
       "    .dataframe tbody tr th:only-of-type {\n",
       "        vertical-align: middle;\n",
       "    }\n",
       "\n",
       "    .dataframe tbody tr th {\n",
       "        vertical-align: top;\n",
       "    }\n",
       "\n",
       "    .dataframe thead th {\n",
       "        text-align: right;\n",
       "    }\n",
       "</style>\n",
       "<table border=\"1\" class=\"dataframe\">\n",
       "  <thead>\n",
       "    <tr style=\"text-align: right;\">\n",
       "      <th></th>\n",
       "      <th>location</th>\n",
       "      <th>size</th>\n",
       "      <th>total_sqft</th>\n",
       "      <th>bath</th>\n",
       "      <th>price</th>\n",
       "      <th>bhk</th>\n",
       "      <th>price_per_sqft</th>\n",
       "    </tr>\n",
       "  </thead>\n",
       "  <tbody>\n",
       "    <tr>\n",
       "      <th>9</th>\n",
       "      <td>other</td>\n",
       "      <td>6 Bedroom</td>\n",
       "      <td>1020.00</td>\n",
       "      <td>6.00</td>\n",
       "      <td>370.00</td>\n",
       "      <td>6</td>\n",
       "      <td>36274.51</td>\n",
       "    </tr>\n",
       "    <tr>\n",
       "      <th>45</th>\n",
       "      <td>HSR Layout</td>\n",
       "      <td>8 Bedroom</td>\n",
       "      <td>600.00</td>\n",
       "      <td>9.00</td>\n",
       "      <td>200.00</td>\n",
       "      <td>8</td>\n",
       "      <td>33333.33</td>\n",
       "    </tr>\n",
       "    <tr>\n",
       "      <th>58</th>\n",
       "      <td>other</td>\n",
       "      <td>6 Bedroom</td>\n",
       "      <td>1407.00</td>\n",
       "      <td>4.00</td>\n",
       "      <td>150.00</td>\n",
       "      <td>6</td>\n",
       "      <td>10660.98</td>\n",
       "    </tr>\n",
       "    <tr>\n",
       "      <th>68</th>\n",
       "      <td>Devarachikkanahalli</td>\n",
       "      <td>8 Bedroom</td>\n",
       "      <td>1350.00</td>\n",
       "      <td>7.00</td>\n",
       "      <td>85.00</td>\n",
       "      <td>8</td>\n",
       "      <td>6296.30</td>\n",
       "    </tr>\n",
       "    <tr>\n",
       "      <th>70</th>\n",
       "      <td>other</td>\n",
       "      <td>3 Bedroom</td>\n",
       "      <td>500.00</td>\n",
       "      <td>3.00</td>\n",
       "      <td>100.00</td>\n",
       "      <td>3</td>\n",
       "      <td>20000.00</td>\n",
       "    </tr>\n",
       "  </tbody>\n",
       "</table>\n",
       "</div>"
      ],
      "text/plain": [
       "               location       size  total_sqft  bath  price  bhk  \\\n",
       "9                 other  6 Bedroom     1020.00  6.00 370.00    6   \n",
       "45           HSR Layout  8 Bedroom      600.00  9.00 200.00    8   \n",
       "58                other  6 Bedroom     1407.00  4.00 150.00    6   \n",
       "68  Devarachikkanahalli  8 Bedroom     1350.00  7.00  85.00    8   \n",
       "70                other  3 Bedroom      500.00  3.00 100.00    3   \n",
       "\n",
       "    price_per_sqft  \n",
       "9         36274.51  \n",
       "45        33333.33  \n",
       "58        10660.98  \n",
       "68         6296.30  \n",
       "70        20000.00  "
      ]
     },
     "execution_count": 34,
     "metadata": {},
     "output_type": "execute_result"
    }
   ],
   "source": [
    "df5[df5.total_sqft/df5.bhk<300].head()"
   ]
  },
  {
   "cell_type": "code",
   "execution_count": 35,
   "metadata": {
    "execution": {
     "iopub.execute_input": "2021-09-10T08:00:50.329791Z",
     "iopub.status.busy": "2021-09-10T08:00:50.329442Z",
     "iopub.status.idle": "2021-09-10T08:00:50.340741Z",
     "shell.execute_reply": "2021-09-10T08:00:50.339851Z",
     "shell.execute_reply.started": "2021-09-10T08:00:50.329756Z"
    }
   },
   "outputs": [
    {
     "data": {
      "text/plain": [
       "(12502, 7)"
      ]
     },
     "execution_count": 35,
     "metadata": {},
     "output_type": "execute_result"
    }
   ],
   "source": [
    "df6 = df5[~(df5.total_sqft/df5.bhk<300)]\n",
    "df6.shape"
   ]
  },
  {
   "cell_type": "code",
   "execution_count": 36,
   "metadata": {
    "execution": {
     "iopub.execute_input": "2021-09-10T08:00:50.342455Z",
     "iopub.status.busy": "2021-09-10T08:00:50.342091Z",
     "iopub.status.idle": "2021-09-10T08:00:50.356461Z",
     "shell.execute_reply": "2021-09-10T08:00:50.355596Z",
     "shell.execute_reply.started": "2021-09-10T08:00:50.342420Z"
    }
   },
   "outputs": [
    {
     "data": {
      "text/plain": [
       "count    12456.00\n",
       "mean      6308.50\n",
       "std       4168.13\n",
       "min        267.83\n",
       "25%       4210.53\n",
       "50%       5294.12\n",
       "75%       6916.67\n",
       "max     176470.59\n",
       "Name: price_per_sqft, dtype: float64"
      ]
     },
     "execution_count": 36,
     "metadata": {},
     "output_type": "execute_result"
    }
   ],
   "source": [
    "df6.price_per_sqft.describe()"
   ]
  },
  {
   "cell_type": "markdown",
   "metadata": {},
   "source": [
    "Outliers are not data errors but they represent extreme variation (the end point range which we don't want)"
   ]
  },
  {
   "cell_type": "code",
   "execution_count": 37,
   "metadata": {
    "execution": {
     "iopub.execute_input": "2021-09-10T08:00:50.358808Z",
     "iopub.status.busy": "2021-09-10T08:00:50.358549Z",
     "iopub.status.idle": "2021-09-10T08:00:50.364682Z",
     "shell.execute_reply": "2021-09-10T08:00:50.363626Z",
     "shell.execute_reply.started": "2021-09-10T08:00:50.358783Z"
    }
   },
   "outputs": [],
   "source": [
    "def remove_outliers(df):\n",
    "    df_out = pd.DataFrame()\n",
    "    for key, subdf in df.groupby('location'):\n",
    "        m = np.mean(subdf.price_per_sqft)\n",
    "        sd = np.std(subdf.price_per_sqft)\n",
    "        reduced_df = subdf[(subdf.price_per_sqft>(m-sd)) & (subdf.price_per_sqft<=(m+sd))]\n",
    "        df_out = pd.concat([df_out,reduced_df],ignore_index=True)\n",
    "    return df_out"
   ]
  },
  {
   "cell_type": "markdown",
   "metadata": {},
   "source": [
    "This function will remove any outlier from not in range from (mean-standard deviation) to (mean+standard deviation)"
   ]
  },
  {
   "cell_type": "code",
   "execution_count": 38,
   "metadata": {
    "execution": {
     "iopub.execute_input": "2021-09-10T08:00:50.367427Z",
     "iopub.status.busy": "2021-09-10T08:00:50.366746Z",
     "iopub.status.idle": "2021-09-10T08:00:50.813008Z",
     "shell.execute_reply": "2021-09-10T08:00:50.812043Z",
     "shell.execute_reply.started": "2021-09-10T08:00:50.367387Z"
    }
   },
   "outputs": [
    {
     "data": {
      "text/plain": [
       "(10357, 7)"
      ]
     },
     "execution_count": 38,
     "metadata": {},
     "output_type": "execute_result"
    }
   ],
   "source": [
    "df7 =remove_outliers(df6)\n",
    "df7.shape"
   ]
  },
  {
   "cell_type": "code",
   "execution_count": 39,
   "metadata": {
    "execution": {
     "iopub.execute_input": "2021-09-10T08:00:50.815020Z",
     "iopub.status.busy": "2021-09-10T08:00:50.814674Z",
     "iopub.status.idle": "2021-09-10T08:00:51.080211Z",
     "shell.execute_reply": "2021-09-10T08:00:51.079199Z",
     "shell.execute_reply.started": "2021-09-10T08:00:50.814984Z"
    }
   },
   "outputs": [
    {
     "data": {
      "image/png": "[encoded data removed]",
      "text/plain": [
       "<Figure size 1080x720 with 1 Axes>"
      ]
     },
     "metadata": {
      "needs_background": "light"
     },
     "output_type": "display_data"
    }
   ],
   "source": [
    "def plot_scatter_chart(df,location):\n",
    "    bhk2 = df[(df.location==location) & (df.bhk==2)]\n",
    "    bhk3 = df[(df.location==location) & (df.bhk==3)]\n",
    "    matplotlib.rcParams['figure.figsize'] = (15,10)\n",
    "    plt.scatter(bhk2.total_sqft,bhk2.price,color='blue',label='2 BHK', s=50)\n",
    "    plt.scatter(bhk3.total_sqft,bhk3.price,marker='+', color='green',label='3 BHK', s=50)\n",
    "    plt.xlabel(\"Total Square Feet Area\")\n",
    "    plt.ylabel(\"Price (Lakh Indian Rupees)\")\n",
    "    plt.title(location)\n",
    "    plt.legend()\n",
    "    \n",
    "plot_scatter_chart(df7,\"Rajaji Nagar\")"
   ]
  },
  {
   "cell_type": "code",
   "execution_count": 40,
   "metadata": {
    "execution": {
     "iopub.execute_input": "2021-09-10T08:00:51.082329Z",
     "iopub.status.busy": "2021-09-10T08:00:51.081963Z",
     "iopub.status.idle": "2021-09-10T08:00:51.305735Z",
     "shell.execute_reply": "2021-09-10T08:00:51.304764Z",
     "shell.execute_reply.started": "2021-09-10T08:00:51.082292Z"
    }
   },
   "outputs": [
    {
     "data": {
      "image/png": "[encoded data removed]",
      "text/plain": [
       "<Figure size 1080x720 with 1 Axes>"
      ]
     },
     "metadata": {
      "needs_background": "light"
     },
     "output_type": "display_data"
    }
   ],
   "source": [
    "plot_scatter_chart(df7,\"Uttarahalli\")"
   ]
  },
  {
   "cell_type": "markdown",
   "metadata": {},
   "source": [
    "At the same price, 2 BHK are costlier than 3 BHK at some points."
   ]
  },
  {
   "cell_type": "code",
   "execution_count": 41,
   "metadata": {
    "execution": {
     "iopub.execute_input": "2021-09-10T08:00:51.307691Z",
     "iopub.status.busy": "2021-09-10T08:00:51.307308Z",
     "iopub.status.idle": "2021-09-10T08:00:52.018554Z",
     "shell.execute_reply": "2021-09-10T08:00:52.016718Z",
     "shell.execute_reply.started": "2021-09-10T08:00:51.307653Z"
    }
   },
   "outputs": [
    {
     "data": {
      "text/plain": [
       "(7131, 7)"
      ]
     },
     "execution_count": 41,
     "metadata": {},
     "output_type": "execute_result"
    }
   ],
   "source": [
    "def remove_bhk_outliers(df):\n",
    "    exclude_indices = np.array([])\n",
    "    for location, location_df in df.groupby('location'):\n",
    "        bhk_stats = {}\n",
    "        for bhk, bhk_df in location_df.groupby('bhk'):\n",
    "            bhk_stats[bhk] = {\n",
    "                'mean': np.mean(bhk_df.price_per_sqft),\n",
    "                'std': np.std(bhk_df.price_per_sqft),\n",
    "                'count': bhk_df.shape[0]\n",
    "            }\n",
    "        for bhk, bhk_df in location_df.groupby('bhk'):\n",
    "            stats = bhk_stats.get(bhk-1)\n",
    "            if stats and stats['count']>5:\n",
    "                exclude_indices = np.append(exclude_indices, bhk_df[bhk_df.price_per_sqft<(stats['mean'])].index.values)\n",
    "    return df.drop(exclude_indices,axis='index')\n",
    "df8 = remove_bhk_outliers(df7)\n",
    "# df8 = df7.copy()\n",
    "df8.shape"
   ]
  },
  {
   "cell_type": "code",
   "execution_count": 42,
   "metadata": {
    "execution": {
     "iopub.execute_input": "2021-09-10T08:00:52.023793Z",
     "iopub.status.busy": "2021-09-10T08:00:52.023453Z",
     "iopub.status.idle": "2021-09-10T08:00:52.348594Z",
     "shell.execute_reply": "2021-09-10T08:00:52.347791Z",
     "shell.execute_reply.started": "2021-09-10T08:00:52.023755Z"
    }
   },
   "outputs": [
    {
     "data": {
      "image/png": "[encoded data removed]",
      "text/plain": [
       "<Figure size 1080x720 with 1 Axes>"
      ]
     },
     "metadata": {
      "needs_background": "light"
     },
     "output_type": "display_data"
    }
   ],
   "source": [
    "plot_scatter_chart(df8,'Uttarahalli')"
   ]
  },
  {
   "cell_type": "markdown",
   "metadata": {},
   "source": []
  },
  {
   "cell_type": "code",
   "execution_count": 43,
   "metadata": {
    "execution": {
     "iopub.execute_input": "2021-09-10T08:00:52.350426Z",
     "iopub.status.busy": "2021-09-10T08:00:52.350178Z",
     "iopub.status.idle": "2021-09-10T08:00:52.560131Z",
     "shell.execute_reply": "2021-09-10T08:00:52.559166Z",
     "shell.execute_reply.started": "2021-09-10T08:00:52.350399Z"
    }
   },
   "outputs": [
    {
     "data": {
      "text/plain": [
       "Text(0, 0.5, 'Count')"
      ]
     },
     "execution_count": 43,
     "metadata": {},
     "output_type": "execute_result"
    },
    {
     "data": {
      "image/png": "[encoded data removed]",
      "text/plain": [
       "<Figure size 1440x720 with 1 Axes>"
      ]
     },
     "metadata": {
      "needs_background": "light"
     },
     "output_type": "display_data"
    }
   ],
   "source": [
    "import matplotlib\n",
    "matplotlib.rcParams[\"figure.figsize\"] = (20,10)\n",
    "plt.hist(df8.price_per_sqft,rwidth=0.8)\n",
    "plt.xlabel(\"Price Per Square Feet\")\n",
    "plt.ylabel(\"Count\")"
   ]
  },
  {
   "cell_type": "markdown",
   "metadata": {},
   "source": []
  },
  {
   "cell_type": "markdown",
   "metadata": {},
   "source": [
    "Most Houses are in the range less than 10000"
   ]
  },
  {
   "cell_type": "code",
   "execution_count": 44,
   "metadata": {
    "execution": {
     "iopub.execute_input": "2021-09-10T08:00:52.561906Z",
     "iopub.status.busy": "2021-09-10T08:00:52.561554Z",
     "iopub.status.idle": "2021-09-10T08:00:52.569362Z",
     "shell.execute_reply": "2021-09-10T08:00:52.568232Z",
     "shell.execute_reply.started": "2021-09-10T08:00:52.561869Z"
    }
   },
   "outputs": [
    {
     "data": {
      "text/plain": [
       "array([ 3.,  5.,  4.,  2.,  8.,  1.,  6.,  7.,  9., 12., 16., 13.])"
      ]
     },
     "execution_count": 44,
     "metadata": {},
     "output_type": "execute_result"
    }
   ],
   "source": [
    "df8.bath.unique()"
   ]
  },
  {
   "cell_type": "markdown",
   "metadata": {},
   "source": [
    "There are houses with 16 bathrooms also🙄"
   ]
  },
  {
   "cell_type": "code",
   "execution_count": 45,
   "metadata": {
    "execution": {
     "iopub.execute_input": "2021-09-10T08:00:52.571599Z",
     "iopub.status.busy": "2021-09-10T08:00:52.571213Z",
     "iopub.status.idle": "2021-09-10T08:00:52.588912Z",
     "shell.execute_reply": "2021-09-10T08:00:52.588107Z",
     "shell.execute_reply.started": "2021-09-10T08:00:52.571562Z"
    }
   },
   "outputs": [
    {
     "data": {
      "text/html": [
       "<div>\n",
       "<style scoped>\n",
       "    .dataframe tbody tr th:only-of-type {\n",
       "        vertical-align: middle;\n",
       "    }\n",
       "\n",
       "    .dataframe tbody tr th {\n",
       "        vertical-align: top;\n",
       "    }\n",
       "\n",
       "    .dataframe thead th {\n",
       "        text-align: right;\n",
       "    }\n",
       "</style>\n",
       "<table border=\"1\" class=\"dataframe\">\n",
       "  <thead>\n",
       "    <tr style=\"text-align: right;\">\n",
       "      <th></th>\n",
       "      <th>location</th>\n",
       "      <th>size</th>\n",
       "      <th>total_sqft</th>\n",
       "      <th>bath</th>\n",
       "      <th>price</th>\n",
       "      <th>bhk</th>\n",
       "      <th>price_per_sqft</th>\n",
       "    </tr>\n",
       "  </thead>\n",
       "  <tbody>\n",
       "    <tr>\n",
       "      <th>8141</th>\n",
       "      <td>other</td>\n",
       "      <td>10 BHK</td>\n",
       "      <td>12000.00</td>\n",
       "      <td>12.00</td>\n",
       "      <td>525.00</td>\n",
       "      <td>10</td>\n",
       "      <td>4375.00</td>\n",
       "    </tr>\n",
       "    <tr>\n",
       "      <th>8258</th>\n",
       "      <td>other</td>\n",
       "      <td>16 BHK</td>\n",
       "      <td>10000.00</td>\n",
       "      <td>16.00</td>\n",
       "      <td>550.00</td>\n",
       "      <td>16</td>\n",
       "      <td>5500.00</td>\n",
       "    </tr>\n",
       "    <tr>\n",
       "      <th>9178</th>\n",
       "      <td>other</td>\n",
       "      <td>11 BHK</td>\n",
       "      <td>6000.00</td>\n",
       "      <td>12.00</td>\n",
       "      <td>150.00</td>\n",
       "      <td>11</td>\n",
       "      <td>2500.00</td>\n",
       "    </tr>\n",
       "    <tr>\n",
       "      <th>9321</th>\n",
       "      <td>other</td>\n",
       "      <td>10 BHK</td>\n",
       "      <td>4000.00</td>\n",
       "      <td>12.00</td>\n",
       "      <td>160.00</td>\n",
       "      <td>10</td>\n",
       "      <td>4000.00</td>\n",
       "    </tr>\n",
       "    <tr>\n",
       "      <th>9609</th>\n",
       "      <td>other</td>\n",
       "      <td>13 BHK</td>\n",
       "      <td>5425.00</td>\n",
       "      <td>13.00</td>\n",
       "      <td>275.00</td>\n",
       "      <td>13</td>\n",
       "      <td>5069.12</td>\n",
       "    </tr>\n",
       "  </tbody>\n",
       "</table>\n",
       "</div>"
      ],
      "text/plain": [
       "     location    size  total_sqft  bath  price  bhk  price_per_sqft\n",
       "8141    other  10 BHK    12000.00 12.00 525.00   10         4375.00\n",
       "8258    other  16 BHK    10000.00 16.00 550.00   16         5500.00\n",
       "9178    other  11 BHK     6000.00 12.00 150.00   11         2500.00\n",
       "9321    other  10 BHK     4000.00 12.00 160.00   10         4000.00\n",
       "9609    other  13 BHK     5425.00 13.00 275.00   13         5069.12"
      ]
     },
     "execution_count": 45,
     "metadata": {},
     "output_type": "execute_result"
    }
   ],
   "source": [
    "df8[df8.bath>10]"
   ]
  },
  {
   "cell_type": "code",
   "execution_count": 46,
   "metadata": {
    "execution": {
     "iopub.execute_input": "2021-09-10T08:00:52.590272Z",
     "iopub.status.busy": "2021-09-10T08:00:52.589990Z",
     "iopub.status.idle": "2021-09-10T08:00:52.784098Z",
     "shell.execute_reply": "2021-09-10T08:00:52.783319Z",
     "shell.execute_reply.started": "2021-09-10T08:00:52.590247Z"
    }
   },
   "outputs": [
    {
     "data": {
      "text/plain": [
       "Text(0, 0.5, 'Count')"
      ]
     },
     "execution_count": 46,
     "metadata": {},
     "output_type": "execute_result"
    },
    {
     "data": {
      "image/png": "[encoded data removed]",
      "text/plain": [
       "<Figure size 1440x720 with 1 Axes>"
      ]
     },
     "metadata": {
      "needs_background": "light"
     },
     "output_type": "display_data"
    }
   ],
   "source": [
    "plt.hist(df8.bath,rwidth=0.8)\n",
    "plt.xlabel(\"Number of bathrooms\")\n",
    "plt.ylabel(\"Count\")"
   ]
  },
  {
   "cell_type": "code",
   "execution_count": 47,
   "metadata": {
    "execution": {
     "iopub.execute_input": "2021-09-10T08:00:52.785712Z",
     "iopub.status.busy": "2021-09-10T08:00:52.785385Z",
     "iopub.status.idle": "2021-09-10T08:00:52.800042Z",
     "shell.execute_reply": "2021-09-10T08:00:52.799058Z",
     "shell.execute_reply.started": "2021-09-10T08:00:52.785677Z"
    }
   },
   "outputs": [
    {
     "data": {
      "text/html": [
       "<div>\n",
       "<style scoped>\n",
       "    .dataframe tbody tr th:only-of-type {\n",
       "        vertical-align: middle;\n",
       "    }\n",
       "\n",
       "    .dataframe tbody tr th {\n",
       "        vertical-align: top;\n",
       "    }\n",
       "\n",
       "    .dataframe thead th {\n",
       "        text-align: right;\n",
       "    }\n",
       "</style>\n",
       "<table border=\"1\" class=\"dataframe\">\n",
       "  <thead>\n",
       "    <tr style=\"text-align: right;\">\n",
       "      <th></th>\n",
       "      <th>location</th>\n",
       "      <th>size</th>\n",
       "      <th>total_sqft</th>\n",
       "      <th>bath</th>\n",
       "      <th>price</th>\n",
       "      <th>bhk</th>\n",
       "      <th>price_per_sqft</th>\n",
       "    </tr>\n",
       "  </thead>\n",
       "  <tbody>\n",
       "    <tr>\n",
       "      <th>8141</th>\n",
       "      <td>other</td>\n",
       "      <td>10 BHK</td>\n",
       "      <td>12000.00</td>\n",
       "      <td>12.00</td>\n",
       "      <td>525.00</td>\n",
       "      <td>10</td>\n",
       "      <td>4375.00</td>\n",
       "    </tr>\n",
       "    <tr>\n",
       "      <th>8258</th>\n",
       "      <td>other</td>\n",
       "      <td>16 BHK</td>\n",
       "      <td>10000.00</td>\n",
       "      <td>16.00</td>\n",
       "      <td>550.00</td>\n",
       "      <td>16</td>\n",
       "      <td>5500.00</td>\n",
       "    </tr>\n",
       "    <tr>\n",
       "      <th>9178</th>\n",
       "      <td>other</td>\n",
       "      <td>11 BHK</td>\n",
       "      <td>6000.00</td>\n",
       "      <td>12.00</td>\n",
       "      <td>150.00</td>\n",
       "      <td>11</td>\n",
       "      <td>2500.00</td>\n",
       "    </tr>\n",
       "    <tr>\n",
       "      <th>9321</th>\n",
       "      <td>other</td>\n",
       "      <td>10 BHK</td>\n",
       "      <td>4000.00</td>\n",
       "      <td>12.00</td>\n",
       "      <td>160.00</td>\n",
       "      <td>10</td>\n",
       "      <td>4000.00</td>\n",
       "    </tr>\n",
       "    <tr>\n",
       "      <th>9609</th>\n",
       "      <td>other</td>\n",
       "      <td>13 BHK</td>\n",
       "      <td>5425.00</td>\n",
       "      <td>13.00</td>\n",
       "      <td>275.00</td>\n",
       "      <td>13</td>\n",
       "      <td>5069.12</td>\n",
       "    </tr>\n",
       "  </tbody>\n",
       "</table>\n",
       "</div>"
      ],
      "text/plain": [
       "     location    size  total_sqft  bath  price  bhk  price_per_sqft\n",
       "8141    other  10 BHK    12000.00 12.00 525.00   10         4375.00\n",
       "8258    other  16 BHK    10000.00 16.00 550.00   16         5500.00\n",
       "9178    other  11 BHK     6000.00 12.00 150.00   11         2500.00\n",
       "9321    other  10 BHK     4000.00 12.00 160.00   10         4000.00\n",
       "9609    other  13 BHK     5425.00 13.00 275.00   13         5069.12"
      ]
     },
     "execution_count": 47,
     "metadata": {},
     "output_type": "execute_result"
    }
   ],
   "source": [
    "df8[df8.bath>10]"
   ]
  },
  {
   "cell_type": "code",
   "execution_count": 48,
   "metadata": {
    "execution": {
     "iopub.execute_input": "2021-09-10T08:00:52.801774Z",
     "iopub.status.busy": "2021-09-10T08:00:52.801374Z",
     "iopub.status.idle": "2021-09-10T08:00:52.816597Z",
     "shell.execute_reply": "2021-09-10T08:00:52.815685Z",
     "shell.execute_reply.started": "2021-09-10T08:00:52.801737Z"
    }
   },
   "outputs": [
    {
     "data": {
      "text/html": [
       "<div>\n",
       "<style scoped>\n",
       "    .dataframe tbody tr th:only-of-type {\n",
       "        vertical-align: middle;\n",
       "    }\n",
       "\n",
       "    .dataframe tbody tr th {\n",
       "        vertical-align: top;\n",
       "    }\n",
       "\n",
       "    .dataframe thead th {\n",
       "        text-align: right;\n",
       "    }\n",
       "</style>\n",
       "<table border=\"1\" class=\"dataframe\">\n",
       "  <thead>\n",
       "    <tr style=\"text-align: right;\">\n",
       "      <th></th>\n",
       "      <th>location</th>\n",
       "      <th>size</th>\n",
       "      <th>total_sqft</th>\n",
       "      <th>bath</th>\n",
       "      <th>price</th>\n",
       "      <th>bhk</th>\n",
       "      <th>price_per_sqft</th>\n",
       "    </tr>\n",
       "  </thead>\n",
       "  <tbody>\n",
       "    <tr>\n",
       "      <th>6269</th>\n",
       "      <td>Thanisandra</td>\n",
       "      <td>3 BHK</td>\n",
       "      <td>1806.00</td>\n",
       "      <td>6.00</td>\n",
       "      <td>116.00</td>\n",
       "      <td>3</td>\n",
       "      <td>6423.03</td>\n",
       "    </tr>\n",
       "    <tr>\n",
       "      <th>8038</th>\n",
       "      <td>other</td>\n",
       "      <td>6 BHK</td>\n",
       "      <td>11338.00</td>\n",
       "      <td>9.00</td>\n",
       "      <td>1000.00</td>\n",
       "      <td>6</td>\n",
       "      <td>8819.90</td>\n",
       "    </tr>\n",
       "    <tr>\n",
       "      <th>9923</th>\n",
       "      <td>other</td>\n",
       "      <td>4 Bedroom</td>\n",
       "      <td>7000.00</td>\n",
       "      <td>8.00</td>\n",
       "      <td>450.00</td>\n",
       "      <td>4</td>\n",
       "      <td>6428.57</td>\n",
       "    </tr>\n",
       "  </tbody>\n",
       "</table>\n",
       "</div>"
      ],
      "text/plain": [
       "         location       size  total_sqft  bath   price  bhk  price_per_sqft\n",
       "6269  Thanisandra      3 BHK     1806.00  6.00  116.00    3         6423.03\n",
       "8038        other      6 BHK    11338.00  9.00 1000.00    6         8819.90\n",
       "9923        other  4 Bedroom     7000.00  8.00  450.00    4         6428.57"
      ]
     },
     "execution_count": 48,
     "metadata": {},
     "output_type": "execute_result"
    }
   ],
   "source": [
    "df8[df8.bath>df8.bhk+2]"
   ]
  },
  {
   "cell_type": "code",
   "execution_count": 49,
   "metadata": {
    "execution": {
     "iopub.execute_input": "2021-09-10T08:00:52.818239Z",
     "iopub.status.busy": "2021-09-10T08:00:52.817882Z",
     "iopub.status.idle": "2021-09-10T08:00:52.827153Z",
     "shell.execute_reply": "2021-09-10T08:00:52.826291Z",
     "shell.execute_reply.started": "2021-09-10T08:00:52.818206Z"
    }
   },
   "outputs": [
    {
     "data": {
      "text/plain": [
       "(7054, 7)"
      ]
     },
     "execution_count": 49,
     "metadata": {},
     "output_type": "execute_result"
    }
   ],
   "source": [
    "df9 = df8[df8.bath<df8.bhk+2]\n",
    "df9.shape"
   ]
  },
  {
   "cell_type": "markdown",
   "metadata": {},
   "source": [
    "Data is almost ready for Machine Learning Training. Just dropping some unneccesary columns"
   ]
  },
  {
   "cell_type": "markdown",
   "metadata": {},
   "source": [
    "### Model Building"
   ]
  },
  {
   "cell_type": "code",
   "execution_count": 50,
   "metadata": {
    "execution": {
     "iopub.execute_input": "2021-09-10T08:00:52.829034Z",
     "iopub.status.busy": "2021-09-10T08:00:52.828544Z",
     "iopub.status.idle": "2021-09-10T08:00:52.841262Z",
     "shell.execute_reply": "2021-09-10T08:00:52.840187Z",
     "shell.execute_reply.started": "2021-09-10T08:00:52.828998Z"
    }
   },
   "outputs": [
    {
     "data": {
      "text/html": [
       "<div>\n",
       "<style scoped>\n",
       "    .dataframe tbody tr th:only-of-type {\n",
       "        vertical-align: middle;\n",
       "    }\n",
       "\n",
       "    .dataframe tbody tr th {\n",
       "        vertical-align: top;\n",
       "    }\n",
       "\n",
       "    .dataframe thead th {\n",
       "        text-align: right;\n",
       "    }\n",
       "</style>\n",
       "<table border=\"1\" class=\"dataframe\">\n",
       "  <thead>\n",
       "    <tr style=\"text-align: right;\">\n",
       "      <th></th>\n",
       "      <th>location</th>\n",
       "      <th>total_sqft</th>\n",
       "      <th>bath</th>\n",
       "      <th>price</th>\n",
       "      <th>bhk</th>\n",
       "    </tr>\n",
       "  </thead>\n",
       "  <tbody>\n",
       "    <tr>\n",
       "      <th>1</th>\n",
       "      <td>1st Phase JP Nagar</td>\n",
       "      <td>1875.00</td>\n",
       "      <td>3.00</td>\n",
       "      <td>167.00</td>\n",
       "      <td>3</td>\n",
       "    </tr>\n",
       "    <tr>\n",
       "      <th>2</th>\n",
       "      <td>1st Phase JP Nagar</td>\n",
       "      <td>1500.00</td>\n",
       "      <td>5.00</td>\n",
       "      <td>85.00</td>\n",
       "      <td>5</td>\n",
       "    </tr>\n",
       "    <tr>\n",
       "      <th>3</th>\n",
       "      <td>1st Phase JP Nagar</td>\n",
       "      <td>2065.00</td>\n",
       "      <td>4.00</td>\n",
       "      <td>210.00</td>\n",
       "      <td>3</td>\n",
       "    </tr>\n",
       "    <tr>\n",
       "      <th>5</th>\n",
       "      <td>1st Phase JP Nagar</td>\n",
       "      <td>2059.00</td>\n",
       "      <td>3.00</td>\n",
       "      <td>225.00</td>\n",
       "      <td>3</td>\n",
       "    </tr>\n",
       "    <tr>\n",
       "      <th>6</th>\n",
       "      <td>1st Phase JP Nagar</td>\n",
       "      <td>1394.00</td>\n",
       "      <td>2.00</td>\n",
       "      <td>100.00</td>\n",
       "      <td>2</td>\n",
       "    </tr>\n",
       "  </tbody>\n",
       "</table>\n",
       "</div>"
      ],
      "text/plain": [
       "             location  total_sqft  bath  price  bhk\n",
       "1  1st Phase JP Nagar     1875.00  3.00 167.00    3\n",
       "2  1st Phase JP Nagar     1500.00  5.00  85.00    5\n",
       "3  1st Phase JP Nagar     2065.00  4.00 210.00    3\n",
       "5  1st Phase JP Nagar     2059.00  3.00 225.00    3\n",
       "6  1st Phase JP Nagar     1394.00  2.00 100.00    2"
      ]
     },
     "execution_count": 50,
     "metadata": {},
     "output_type": "execute_result"
    }
   ],
   "source": [
    "df10 = df9.drop(['size','price_per_sqft'],axis='columns')\n",
    "df10.head()"
   ]
  },
  {
   "cell_type": "markdown",
   "metadata": {},
   "source": []
  },
  {
   "cell_type": "code",
   "execution_count": 51,
   "metadata": {
    "execution": {
     "iopub.execute_input": "2021-09-10T08:00:52.845703Z",
     "iopub.status.busy": "2021-09-10T08:00:52.845393Z",
     "iopub.status.idle": "2021-09-10T08:00:52.867716Z",
     "shell.execute_reply": "2021-09-10T08:00:52.867024Z",
     "shell.execute_reply.started": "2021-09-10T08:00:52.845678Z"
    }
   },
   "outputs": [
    {
     "data": {
      "text/html": [
       "<div>\n",
       "<style scoped>\n",
       "    .dataframe tbody tr th:only-of-type {\n",
       "        vertical-align: middle;\n",
       "    }\n",
       "\n",
       "    .dataframe tbody tr th {\n",
       "        vertical-align: top;\n",
       "    }\n",
       "\n",
       "    .dataframe thead th {\n",
       "        text-align: right;\n",
       "    }\n",
       "</style>\n",
       "<table border=\"1\" class=\"dataframe\">\n",
       "  <thead>\n",
       "    <tr style=\"text-align: right;\">\n",
       "      <th></th>\n",
       "      <th>1st Phase JP Nagar</th>\n",
       "      <th>2nd Stage Nagarbhavi</th>\n",
       "      <th>5th Phase JP Nagar</th>\n",
       "      <th>6th Phase JP Nagar</th>\n",
       "      <th>7th Phase JP Nagar</th>\n",
       "      <th>8th Phase JP Nagar</th>\n",
       "      <th>9th Phase JP Nagar</th>\n",
       "      <th>Abbigere</th>\n",
       "      <th>Akshaya Nagar</th>\n",
       "      <th>Ambalipura</th>\n",
       "      <th>...</th>\n",
       "      <th>Varthur</th>\n",
       "      <th>Vidyaranyapura</th>\n",
       "      <th>Vijayanagar</th>\n",
       "      <th>Vittasandra</th>\n",
       "      <th>Whitefield</th>\n",
       "      <th>Yelachenahalli</th>\n",
       "      <th>Yelahanka</th>\n",
       "      <th>Yelahanka New Town</th>\n",
       "      <th>Yeshwanthpur</th>\n",
       "      <th>other</th>\n",
       "    </tr>\n",
       "  </thead>\n",
       "  <tbody>\n",
       "    <tr>\n",
       "      <th>1</th>\n",
       "      <td>1</td>\n",
       "      <td>0</td>\n",
       "      <td>0</td>\n",
       "      <td>0</td>\n",
       "      <td>0</td>\n",
       "      <td>0</td>\n",
       "      <td>0</td>\n",
       "      <td>0</td>\n",
       "      <td>0</td>\n",
       "      <td>0</td>\n",
       "      <td>...</td>\n",
       "      <td>0</td>\n",
       "      <td>0</td>\n",
       "      <td>0</td>\n",
       "      <td>0</td>\n",
       "      <td>0</td>\n",
       "      <td>0</td>\n",
       "      <td>0</td>\n",
       "      <td>0</td>\n",
       "      <td>0</td>\n",
       "      <td>0</td>\n",
       "    </tr>\n",
       "    <tr>\n",
       "      <th>2</th>\n",
       "      <td>1</td>\n",
       "      <td>0</td>\n",
       "      <td>0</td>\n",
       "      <td>0</td>\n",
       "      <td>0</td>\n",
       "      <td>0</td>\n",
       "      <td>0</td>\n",
       "      <td>0</td>\n",
       "      <td>0</td>\n",
       "      <td>0</td>\n",
       "      <td>...</td>\n",
       "      <td>0</td>\n",
       "      <td>0</td>\n",
       "      <td>0</td>\n",
       "      <td>0</td>\n",
       "      <td>0</td>\n",
       "      <td>0</td>\n",
       "      <td>0</td>\n",
       "      <td>0</td>\n",
       "      <td>0</td>\n",
       "      <td>0</td>\n",
       "    </tr>\n",
       "    <tr>\n",
       "      <th>3</th>\n",
       "      <td>1</td>\n",
       "      <td>0</td>\n",
       "      <td>0</td>\n",
       "      <td>0</td>\n",
       "      <td>0</td>\n",
       "      <td>0</td>\n",
       "      <td>0</td>\n",
       "      <td>0</td>\n",
       "      <td>0</td>\n",
       "      <td>0</td>\n",
       "      <td>...</td>\n",
       "      <td>0</td>\n",
       "      <td>0</td>\n",
       "      <td>0</td>\n",
       "      <td>0</td>\n",
       "      <td>0</td>\n",
       "      <td>0</td>\n",
       "      <td>0</td>\n",
       "      <td>0</td>\n",
       "      <td>0</td>\n",
       "      <td>0</td>\n",
       "    </tr>\n",
       "  </tbody>\n",
       "</table>\n",
       "<p>3 rows × 182 columns</p>\n",
       "</div>"
      ],
      "text/plain": [
       "   1st Phase JP Nagar  2nd Stage Nagarbhavi  5th Phase JP Nagar  \\\n",
       "1                   1                     0                   0   \n",
       "2                   1                     0                   0   \n",
       "3                   1                     0                   0   \n",
       "\n",
       "   6th Phase JP Nagar  7th Phase JP Nagar  8th Phase JP Nagar  \\\n",
       "1                   0                   0                   0   \n",
       "2                   0                   0                   0   \n",
       "3                   0                   0                   0   \n",
       "\n",
       "   9th Phase JP Nagar  Abbigere  Akshaya Nagar  Ambalipura  ...  Varthur  \\\n",
       "1                   0         0              0           0  ...        0   \n",
       "2                   0         0              0           0  ...        0   \n",
       "3                   0         0              0           0  ...        0   \n",
       "\n",
       "   Vidyaranyapura  Vijayanagar  Vittasandra  Whitefield  Yelachenahalli  \\\n",
       "1               0            0            0           0               0   \n",
       "2               0            0            0           0               0   \n",
       "3               0            0            0           0               0   \n",
       "\n",
       "   Yelahanka  Yelahanka New Town  Yeshwanthpur  other  \n",
       "1          0                   0             0      0  \n",
       "2          0                   0             0      0  \n",
       "3          0                   0             0      0  \n",
       "\n",
       "[3 rows x 182 columns]"
      ]
     },
     "execution_count": 51,
     "metadata": {},
     "output_type": "execute_result"
    }
   ],
   "source": [
    "dummies = pd.get_dummies(df10.location)\n",
    "dummies.head(3)"
   ]
  },
  {
   "cell_type": "code",
   "execution_count": 52,
   "metadata": {
    "execution": {
     "iopub.execute_input": "2021-09-10T08:00:52.869640Z",
     "iopub.status.busy": "2021-09-10T08:00:52.869300Z",
     "iopub.status.idle": "2021-09-10T08:00:52.898045Z",
     "shell.execute_reply": "2021-09-10T08:00:52.897175Z",
     "shell.execute_reply.started": "2021-09-10T08:00:52.869607Z"
    }
   },
   "outputs": [
    {
     "data": {
      "text/html": [
       "<div>\n",
       "<style scoped>\n",
       "    .dataframe tbody tr th:only-of-type {\n",
       "        vertical-align: middle;\n",
       "    }\n",
       "\n",
       "    .dataframe tbody tr th {\n",
       "        vertical-align: top;\n",
       "    }\n",
       "\n",
       "    .dataframe thead th {\n",
       "        text-align: right;\n",
       "    }\n",
       "</style>\n",
       "<table border=\"1\" class=\"dataframe\">\n",
       "  <thead>\n",
       "    <tr style=\"text-align: right;\">\n",
       "      <th></th>\n",
       "      <th>location</th>\n",
       "      <th>total_sqft</th>\n",
       "      <th>bath</th>\n",
       "      <th>price</th>\n",
       "      <th>bhk</th>\n",
       "      <th>1st Phase JP Nagar</th>\n",
       "      <th>2nd Stage Nagarbhavi</th>\n",
       "      <th>5th Phase JP Nagar</th>\n",
       "      <th>6th Phase JP Nagar</th>\n",
       "      <th>7th Phase JP Nagar</th>\n",
       "      <th>...</th>\n",
       "      <th>Uttarahalli</th>\n",
       "      <th>Varthur</th>\n",
       "      <th>Vidyaranyapura</th>\n",
       "      <th>Vijayanagar</th>\n",
       "      <th>Vittasandra</th>\n",
       "      <th>Whitefield</th>\n",
       "      <th>Yelachenahalli</th>\n",
       "      <th>Yelahanka</th>\n",
       "      <th>Yelahanka New Town</th>\n",
       "      <th>Yeshwanthpur</th>\n",
       "    </tr>\n",
       "  </thead>\n",
       "  <tbody>\n",
       "    <tr>\n",
       "      <th>1</th>\n",
       "      <td>1st Phase JP Nagar</td>\n",
       "      <td>1875.00</td>\n",
       "      <td>3.00</td>\n",
       "      <td>167.00</td>\n",
       "      <td>3</td>\n",
       "      <td>1</td>\n",
       "      <td>0</td>\n",
       "      <td>0</td>\n",
       "      <td>0</td>\n",
       "      <td>0</td>\n",
       "      <td>...</td>\n",
       "      <td>0</td>\n",
       "      <td>0</td>\n",
       "      <td>0</td>\n",
       "      <td>0</td>\n",
       "      <td>0</td>\n",
       "      <td>0</td>\n",
       "      <td>0</td>\n",
       "      <td>0</td>\n",
       "      <td>0</td>\n",
       "      <td>0</td>\n",
       "    </tr>\n",
       "    <tr>\n",
       "      <th>2</th>\n",
       "      <td>1st Phase JP Nagar</td>\n",
       "      <td>1500.00</td>\n",
       "      <td>5.00</td>\n",
       "      <td>85.00</td>\n",
       "      <td>5</td>\n",
       "      <td>1</td>\n",
       "      <td>0</td>\n",
       "      <td>0</td>\n",
       "      <td>0</td>\n",
       "      <td>0</td>\n",
       "      <td>...</td>\n",
       "      <td>0</td>\n",
       "      <td>0</td>\n",
       "      <td>0</td>\n",
       "      <td>0</td>\n",
       "      <td>0</td>\n",
       "      <td>0</td>\n",
       "      <td>0</td>\n",
       "      <td>0</td>\n",
       "      <td>0</td>\n",
       "      <td>0</td>\n",
       "    </tr>\n",
       "    <tr>\n",
       "      <th>3</th>\n",
       "      <td>1st Phase JP Nagar</td>\n",
       "      <td>2065.00</td>\n",
       "      <td>4.00</td>\n",
       "      <td>210.00</td>\n",
       "      <td>3</td>\n",
       "      <td>1</td>\n",
       "      <td>0</td>\n",
       "      <td>0</td>\n",
       "      <td>0</td>\n",
       "      <td>0</td>\n",
       "      <td>...</td>\n",
       "      <td>0</td>\n",
       "      <td>0</td>\n",
       "      <td>0</td>\n",
       "      <td>0</td>\n",
       "      <td>0</td>\n",
       "      <td>0</td>\n",
       "      <td>0</td>\n",
       "      <td>0</td>\n",
       "      <td>0</td>\n",
       "      <td>0</td>\n",
       "    </tr>\n",
       "    <tr>\n",
       "      <th>5</th>\n",
       "      <td>1st Phase JP Nagar</td>\n",
       "      <td>2059.00</td>\n",
       "      <td>3.00</td>\n",
       "      <td>225.00</td>\n",
       "      <td>3</td>\n",
       "      <td>1</td>\n",
       "      <td>0</td>\n",
       "      <td>0</td>\n",
       "      <td>0</td>\n",
       "      <td>0</td>\n",
       "      <td>...</td>\n",
       "      <td>0</td>\n",
       "      <td>0</td>\n",
       "      <td>0</td>\n",
       "      <td>0</td>\n",
       "      <td>0</td>\n",
       "      <td>0</td>\n",
       "      <td>0</td>\n",
       "      <td>0</td>\n",
       "      <td>0</td>\n",
       "      <td>0</td>\n",
       "    </tr>\n",
       "    <tr>\n",
       "      <th>6</th>\n",
       "      <td>1st Phase JP Nagar</td>\n",
       "      <td>1394.00</td>\n",
       "      <td>2.00</td>\n",
       "      <td>100.00</td>\n",
       "      <td>2</td>\n",
       "      <td>1</td>\n",
       "      <td>0</td>\n",
       "      <td>0</td>\n",
       "      <td>0</td>\n",
       "      <td>0</td>\n",
       "      <td>...</td>\n",
       "      <td>0</td>\n",
       "      <td>0</td>\n",
       "      <td>0</td>\n",
       "      <td>0</td>\n",
       "      <td>0</td>\n",
       "      <td>0</td>\n",
       "      <td>0</td>\n",
       "      <td>0</td>\n",
       "      <td>0</td>\n",
       "      <td>0</td>\n",
       "    </tr>\n",
       "  </tbody>\n",
       "</table>\n",
       "<p>5 rows × 186 columns</p>\n",
       "</div>"
      ],
      "text/plain": [
       "             location  total_sqft  bath  price  bhk  1st Phase JP Nagar  \\\n",
       "1  1st Phase JP Nagar     1875.00  3.00 167.00    3                   1   \n",
       "2  1st Phase JP Nagar     1500.00  5.00  85.00    5                   1   \n",
       "3  1st Phase JP Nagar     2065.00  4.00 210.00    3                   1   \n",
       "5  1st Phase JP Nagar     2059.00  3.00 225.00    3                   1   \n",
       "6  1st Phase JP Nagar     1394.00  2.00 100.00    2                   1   \n",
       "\n",
       "   2nd Stage Nagarbhavi  5th Phase JP Nagar  6th Phase JP Nagar  \\\n",
       "1                     0                   0                   0   \n",
       "2                     0                   0                   0   \n",
       "3                     0                   0                   0   \n",
       "5                     0                   0                   0   \n",
       "6                     0                   0                   0   \n",
       "\n",
       "   7th Phase JP Nagar  ...  Uttarahalli  Varthur  Vidyaranyapura  Vijayanagar  \\\n",
       "1                   0  ...            0        0               0            0   \n",
       "2                   0  ...            0        0               0            0   \n",
       "3                   0  ...            0        0               0            0   \n",
       "5                   0  ...            0        0               0            0   \n",
       "6                   0  ...            0        0               0            0   \n",
       "\n",
       "   Vittasandra  Whitefield  Yelachenahalli  Yelahanka  Yelahanka New Town  \\\n",
       "1            0           0               0          0                   0   \n",
       "2            0           0               0          0                   0   \n",
       "3            0           0               0          0                   0   \n",
       "5            0           0               0          0                   0   \n",
       "6            0           0               0          0                   0   \n",
       "\n",
       "   Yeshwanthpur  \n",
       "1             0  \n",
       "2             0  \n",
       "3             0  \n",
       "5             0  \n",
       "6             0  \n",
       "\n",
       "[5 rows x 186 columns]"
      ]
     },
     "execution_count": 52,
     "metadata": {},
     "output_type": "execute_result"
    }
   ],
   "source": [
    "df11 = pd.concat([df10,dummies.drop('other',axis='columns')],axis='columns')\n",
    "df11.head()"
   ]
  },
  {
   "cell_type": "code",
   "execution_count": 53,
   "metadata": {
    "execution": {
     "iopub.execute_input": "2021-09-10T08:00:52.899603Z",
     "iopub.status.busy": "2021-09-10T08:00:52.899275Z",
     "iopub.status.idle": "2021-09-10T08:00:52.921011Z",
     "shell.execute_reply": "2021-09-10T08:00:52.920128Z",
     "shell.execute_reply.started": "2021-09-10T08:00:52.899570Z"
    }
   },
   "outputs": [
    {
     "data": {
      "text/html": [
       "<div>\n",
       "<style scoped>\n",
       "    .dataframe tbody tr th:only-of-type {\n",
       "        vertical-align: middle;\n",
       "    }\n",
       "\n",
       "    .dataframe tbody tr th {\n",
       "        vertical-align: top;\n",
       "    }\n",
       "\n",
       "    .dataframe thead th {\n",
       "        text-align: right;\n",
       "    }\n",
       "</style>\n",
       "<table border=\"1\" class=\"dataframe\">\n",
       "  <thead>\n",
       "    <tr style=\"text-align: right;\">\n",
       "      <th></th>\n",
       "      <th>total_sqft</th>\n",
       "      <th>bath</th>\n",
       "      <th>price</th>\n",
       "      <th>bhk</th>\n",
       "      <th>1st Phase JP Nagar</th>\n",
       "      <th>2nd Stage Nagarbhavi</th>\n",
       "      <th>5th Phase JP Nagar</th>\n",
       "      <th>6th Phase JP Nagar</th>\n",
       "      <th>7th Phase JP Nagar</th>\n",
       "      <th>8th Phase JP Nagar</th>\n",
       "      <th>...</th>\n",
       "      <th>Uttarahalli</th>\n",
       "      <th>Varthur</th>\n",
       "      <th>Vidyaranyapura</th>\n",
       "      <th>Vijayanagar</th>\n",
       "      <th>Vittasandra</th>\n",
       "      <th>Whitefield</th>\n",
       "      <th>Yelachenahalli</th>\n",
       "      <th>Yelahanka</th>\n",
       "      <th>Yelahanka New Town</th>\n",
       "      <th>Yeshwanthpur</th>\n",
       "    </tr>\n",
       "  </thead>\n",
       "  <tbody>\n",
       "    <tr>\n",
       "      <th>1</th>\n",
       "      <td>1875.00</td>\n",
       "      <td>3.00</td>\n",
       "      <td>167.00</td>\n",
       "      <td>3</td>\n",
       "      <td>1</td>\n",
       "      <td>0</td>\n",
       "      <td>0</td>\n",
       "      <td>0</td>\n",
       "      <td>0</td>\n",
       "      <td>0</td>\n",
       "      <td>...</td>\n",
       "      <td>0</td>\n",
       "      <td>0</td>\n",
       "      <td>0</td>\n",
       "      <td>0</td>\n",
       "      <td>0</td>\n",
       "      <td>0</td>\n",
       "      <td>0</td>\n",
       "      <td>0</td>\n",
       "      <td>0</td>\n",
       "      <td>0</td>\n",
       "    </tr>\n",
       "    <tr>\n",
       "      <th>2</th>\n",
       "      <td>1500.00</td>\n",
       "      <td>5.00</td>\n",
       "      <td>85.00</td>\n",
       "      <td>5</td>\n",
       "      <td>1</td>\n",
       "      <td>0</td>\n",
       "      <td>0</td>\n",
       "      <td>0</td>\n",
       "      <td>0</td>\n",
       "      <td>0</td>\n",
       "      <td>...</td>\n",
       "      <td>0</td>\n",
       "      <td>0</td>\n",
       "      <td>0</td>\n",
       "      <td>0</td>\n",
       "      <td>0</td>\n",
       "      <td>0</td>\n",
       "      <td>0</td>\n",
       "      <td>0</td>\n",
       "      <td>0</td>\n",
       "      <td>0</td>\n",
       "    </tr>\n",
       "    <tr>\n",
       "      <th>3</th>\n",
       "      <td>2065.00</td>\n",
       "      <td>4.00</td>\n",
       "      <td>210.00</td>\n",
       "      <td>3</td>\n",
       "      <td>1</td>\n",
       "      <td>0</td>\n",
       "      <td>0</td>\n",
       "      <td>0</td>\n",
       "      <td>0</td>\n",
       "      <td>0</td>\n",
       "      <td>...</td>\n",
       "      <td>0</td>\n",
       "      <td>0</td>\n",
       "      <td>0</td>\n",
       "      <td>0</td>\n",
       "      <td>0</td>\n",
       "      <td>0</td>\n",
       "      <td>0</td>\n",
       "      <td>0</td>\n",
       "      <td>0</td>\n",
       "      <td>0</td>\n",
       "    </tr>\n",
       "    <tr>\n",
       "      <th>5</th>\n",
       "      <td>2059.00</td>\n",
       "      <td>3.00</td>\n",
       "      <td>225.00</td>\n",
       "      <td>3</td>\n",
       "      <td>1</td>\n",
       "      <td>0</td>\n",
       "      <td>0</td>\n",
       "      <td>0</td>\n",
       "      <td>0</td>\n",
       "      <td>0</td>\n",
       "      <td>...</td>\n",
       "      <td>0</td>\n",
       "      <td>0</td>\n",
       "      <td>0</td>\n",
       "      <td>0</td>\n",
       "      <td>0</td>\n",
       "      <td>0</td>\n",
       "      <td>0</td>\n",
       "      <td>0</td>\n",
       "      <td>0</td>\n",
       "      <td>0</td>\n",
       "    </tr>\n",
       "    <tr>\n",
       "      <th>6</th>\n",
       "      <td>1394.00</td>\n",
       "      <td>2.00</td>\n",
       "      <td>100.00</td>\n",
       "      <td>2</td>\n",
       "      <td>1</td>\n",
       "      <td>0</td>\n",
       "      <td>0</td>\n",
       "      <td>0</td>\n",
       "      <td>0</td>\n",
       "      <td>0</td>\n",
       "      <td>...</td>\n",
       "      <td>0</td>\n",
       "      <td>0</td>\n",
       "      <td>0</td>\n",
       "      <td>0</td>\n",
       "      <td>0</td>\n",
       "      <td>0</td>\n",
       "      <td>0</td>\n",
       "      <td>0</td>\n",
       "      <td>0</td>\n",
       "      <td>0</td>\n",
       "    </tr>\n",
       "  </tbody>\n",
       "</table>\n",
       "<p>5 rows × 185 columns</p>\n",
       "</div>"
      ],
      "text/plain": [
       "   total_sqft  bath  price  bhk  1st Phase JP Nagar  2nd Stage Nagarbhavi  \\\n",
       "1     1875.00  3.00 167.00    3                   1                     0   \n",
       "2     1500.00  5.00  85.00    5                   1                     0   \n",
       "3     2065.00  4.00 210.00    3                   1                     0   \n",
       "5     2059.00  3.00 225.00    3                   1                     0   \n",
       "6     1394.00  2.00 100.00    2                   1                     0   \n",
       "\n",
       "   5th Phase JP Nagar  6th Phase JP Nagar  7th Phase JP Nagar  \\\n",
       "1                   0                   0                   0   \n",
       "2                   0                   0                   0   \n",
       "3                   0                   0                   0   \n",
       "5                   0                   0                   0   \n",
       "6                   0                   0                   0   \n",
       "\n",
       "   8th Phase JP Nagar  ...  Uttarahalli  Varthur  Vidyaranyapura  Vijayanagar  \\\n",
       "1                   0  ...            0        0               0            0   \n",
       "2                   0  ...            0        0               0            0   \n",
       "3                   0  ...            0        0               0            0   \n",
       "5                   0  ...            0        0               0            0   \n",
       "6                   0  ...            0        0               0            0   \n",
       "\n",
       "   Vittasandra  Whitefield  Yelachenahalli  Yelahanka  Yelahanka New Town  \\\n",
       "1            0           0               0          0                   0   \n",
       "2            0           0               0          0                   0   \n",
       "3            0           0               0          0                   0   \n",
       "5            0           0               0          0                   0   \n",
       "6            0           0               0          0                   0   \n",
       "\n",
       "   Yeshwanthpur  \n",
       "1             0  \n",
       "2             0  \n",
       "3             0  \n",
       "5             0  \n",
       "6             0  \n",
       "\n",
       "[5 rows x 185 columns]"
      ]
     },
     "execution_count": 53,
     "metadata": {},
     "output_type": "execute_result"
    }
   ],
   "source": [
    "df12 = df11.drop('location',axis='columns')\n",
    "df12.head()"
   ]
  },
  {
   "cell_type": "code",
   "execution_count": 54,
   "metadata": {
    "execution": {
     "iopub.execute_input": "2021-09-10T08:00:52.922911Z",
     "iopub.status.busy": "2021-09-10T08:00:52.922312Z",
     "iopub.status.idle": "2021-09-10T08:00:52.928531Z",
     "shell.execute_reply": "2021-09-10T08:00:52.927516Z",
     "shell.execute_reply.started": "2021-09-10T08:00:52.922874Z"
    }
   },
   "outputs": [
    {
     "data": {
      "text/plain": [
       "(7054, 185)"
      ]
     },
     "execution_count": 54,
     "metadata": {},
     "output_type": "execute_result"
    }
   ],
   "source": [
    "df12.shape"
   ]
  },
  {
   "cell_type": "code",
   "execution_count": 55,
   "metadata": {
    "execution": {
     "iopub.execute_input": "2021-09-10T08:00:52.930446Z",
     "iopub.status.busy": "2021-09-10T08:00:52.930000Z",
     "iopub.status.idle": "2021-09-10T08:00:52.952981Z",
     "shell.execute_reply": "2021-09-10T08:00:52.952045Z",
     "shell.execute_reply.started": "2021-09-10T08:00:52.930411Z"
    }
   },
   "outputs": [
    {
     "data": {
      "text/html": [
       "<div>\n",
       "<style scoped>\n",
       "    .dataframe tbody tr th:only-of-type {\n",
       "        vertical-align: middle;\n",
       "    }\n",
       "\n",
       "    .dataframe tbody tr th {\n",
       "        vertical-align: top;\n",
       "    }\n",
       "\n",
       "    .dataframe thead th {\n",
       "        text-align: right;\n",
       "    }\n",
       "</style>\n",
       "<table border=\"1\" class=\"dataframe\">\n",
       "  <thead>\n",
       "    <tr style=\"text-align: right;\">\n",
       "      <th></th>\n",
       "      <th>total_sqft</th>\n",
       "      <th>bath</th>\n",
       "      <th>bhk</th>\n",
       "      <th>1st Phase JP Nagar</th>\n",
       "      <th>2nd Stage Nagarbhavi</th>\n",
       "      <th>5th Phase JP Nagar</th>\n",
       "      <th>6th Phase JP Nagar</th>\n",
       "      <th>7th Phase JP Nagar</th>\n",
       "      <th>8th Phase JP Nagar</th>\n",
       "      <th>9th Phase JP Nagar</th>\n",
       "      <th>...</th>\n",
       "      <th>Uttarahalli</th>\n",
       "      <th>Varthur</th>\n",
       "      <th>Vidyaranyapura</th>\n",
       "      <th>Vijayanagar</th>\n",
       "      <th>Vittasandra</th>\n",
       "      <th>Whitefield</th>\n",
       "      <th>Yelachenahalli</th>\n",
       "      <th>Yelahanka</th>\n",
       "      <th>Yelahanka New Town</th>\n",
       "      <th>Yeshwanthpur</th>\n",
       "    </tr>\n",
       "  </thead>\n",
       "  <tbody>\n",
       "    <tr>\n",
       "      <th>1</th>\n",
       "      <td>1875.00</td>\n",
       "      <td>3.00</td>\n",
       "      <td>3</td>\n",
       "      <td>1</td>\n",
       "      <td>0</td>\n",
       "      <td>0</td>\n",
       "      <td>0</td>\n",
       "      <td>0</td>\n",
       "      <td>0</td>\n",
       "      <td>0</td>\n",
       "      <td>...</td>\n",
       "      <td>0</td>\n",
       "      <td>0</td>\n",
       "      <td>0</td>\n",
       "      <td>0</td>\n",
       "      <td>0</td>\n",
       "      <td>0</td>\n",
       "      <td>0</td>\n",
       "      <td>0</td>\n",
       "      <td>0</td>\n",
       "      <td>0</td>\n",
       "    </tr>\n",
       "    <tr>\n",
       "      <th>2</th>\n",
       "      <td>1500.00</td>\n",
       "      <td>5.00</td>\n",
       "      <td>5</td>\n",
       "      <td>1</td>\n",
       "      <td>0</td>\n",
       "      <td>0</td>\n",
       "      <td>0</td>\n",
       "      <td>0</td>\n",
       "      <td>0</td>\n",
       "      <td>0</td>\n",
       "      <td>...</td>\n",
       "      <td>0</td>\n",
       "      <td>0</td>\n",
       "      <td>0</td>\n",
       "      <td>0</td>\n",
       "      <td>0</td>\n",
       "      <td>0</td>\n",
       "      <td>0</td>\n",
       "      <td>0</td>\n",
       "      <td>0</td>\n",
       "      <td>0</td>\n",
       "    </tr>\n",
       "    <tr>\n",
       "      <th>3</th>\n",
       "      <td>2065.00</td>\n",
       "      <td>4.00</td>\n",
       "      <td>3</td>\n",
       "      <td>1</td>\n",
       "      <td>0</td>\n",
       "      <td>0</td>\n",
       "      <td>0</td>\n",
       "      <td>0</td>\n",
       "      <td>0</td>\n",
       "      <td>0</td>\n",
       "      <td>...</td>\n",
       "      <td>0</td>\n",
       "      <td>0</td>\n",
       "      <td>0</td>\n",
       "      <td>0</td>\n",
       "      <td>0</td>\n",
       "      <td>0</td>\n",
       "      <td>0</td>\n",
       "      <td>0</td>\n",
       "      <td>0</td>\n",
       "      <td>0</td>\n",
       "    </tr>\n",
       "    <tr>\n",
       "      <th>5</th>\n",
       "      <td>2059.00</td>\n",
       "      <td>3.00</td>\n",
       "      <td>3</td>\n",
       "      <td>1</td>\n",
       "      <td>0</td>\n",
       "      <td>0</td>\n",
       "      <td>0</td>\n",
       "      <td>0</td>\n",
       "      <td>0</td>\n",
       "      <td>0</td>\n",
       "      <td>...</td>\n",
       "      <td>0</td>\n",
       "      <td>0</td>\n",
       "      <td>0</td>\n",
       "      <td>0</td>\n",
       "      <td>0</td>\n",
       "      <td>0</td>\n",
       "      <td>0</td>\n",
       "      <td>0</td>\n",
       "      <td>0</td>\n",
       "      <td>0</td>\n",
       "    </tr>\n",
       "    <tr>\n",
       "      <th>6</th>\n",
       "      <td>1394.00</td>\n",
       "      <td>2.00</td>\n",
       "      <td>2</td>\n",
       "      <td>1</td>\n",
       "      <td>0</td>\n",
       "      <td>0</td>\n",
       "      <td>0</td>\n",
       "      <td>0</td>\n",
       "      <td>0</td>\n",
       "      <td>0</td>\n",
       "      <td>...</td>\n",
       "      <td>0</td>\n",
       "      <td>0</td>\n",
       "      <td>0</td>\n",
       "      <td>0</td>\n",
       "      <td>0</td>\n",
       "      <td>0</td>\n",
       "      <td>0</td>\n",
       "      <td>0</td>\n",
       "      <td>0</td>\n",
       "      <td>0</td>\n",
       "    </tr>\n",
       "  </tbody>\n",
       "</table>\n",
       "<p>5 rows × 184 columns</p>\n",
       "</div>"
      ],
      "text/plain": [
       "   total_sqft  bath  bhk  1st Phase JP Nagar  2nd Stage Nagarbhavi  \\\n",
       "1     1875.00  3.00    3                   1                     0   \n",
       "2     1500.00  5.00    5                   1                     0   \n",
       "3     2065.00  4.00    3                   1                     0   \n",
       "5     2059.00  3.00    3                   1                     0   \n",
       "6     1394.00  2.00    2                   1                     0   \n",
       "\n",
       "   5th Phase JP Nagar  6th Phase JP Nagar  7th Phase JP Nagar  \\\n",
       "1                   0                   0                   0   \n",
       "2                   0                   0                   0   \n",
       "3                   0                   0                   0   \n",
       "5                   0                   0                   0   \n",
       "6                   0                   0                   0   \n",
       "\n",
       "   8th Phase JP Nagar  9th Phase JP Nagar  ...  Uttarahalli  Varthur  \\\n",
       "1                   0                   0  ...            0        0   \n",
       "2                   0                   0  ...            0        0   \n",
       "3                   0                   0  ...            0        0   \n",
       "5                   0                   0  ...            0        0   \n",
       "6                   0                   0  ...            0        0   \n",
       "\n",
       "   Vidyaranyapura  Vijayanagar  Vittasandra  Whitefield  Yelachenahalli  \\\n",
       "1               0            0            0           0               0   \n",
       "2               0            0            0           0               0   \n",
       "3               0            0            0           0               0   \n",
       "5               0            0            0           0               0   \n",
       "6               0            0            0           0               0   \n",
       "\n",
       "   Yelahanka  Yelahanka New Town  Yeshwanthpur  \n",
       "1          0                   0             0  \n",
       "2          0                   0             0  \n",
       "3          0                   0             0  \n",
       "5          0                   0             0  \n",
       "6          0                   0             0  \n",
       "\n",
       "[5 rows x 184 columns]"
      ]
     },
     "execution_count": 55,
     "metadata": {},
     "output_type": "execute_result"
    }
   ],
   "source": [
    "x = df12.drop('price',axis='columns')\n",
    "x.head()"
   ]
  },
  {
   "cell_type": "code",
   "execution_count": 56,
   "metadata": {
    "execution": {
     "iopub.execute_input": "2021-09-10T08:00:52.954703Z",
     "iopub.status.busy": "2021-09-10T08:00:52.954377Z",
     "iopub.status.idle": "2021-09-10T08:00:52.961914Z",
     "shell.execute_reply": "2021-09-10T08:00:52.960997Z",
     "shell.execute_reply.started": "2021-09-10T08:00:52.954670Z"
    }
   },
   "outputs": [
    {
     "data": {
      "text/plain": [
       "1   167.00\n",
       "2    85.00\n",
       "3   210.00\n",
       "5   225.00\n",
       "6   100.00\n",
       "Name: price, dtype: float64"
      ]
     },
     "execution_count": 56,
     "metadata": {},
     "output_type": "execute_result"
    }
   ],
   "source": [
    "y = df12.price\n",
    "y.head()"
   ]
  },
  {
   "cell_type": "code",
   "execution_count": 57,
   "metadata": {
    "execution": {
     "iopub.execute_input": "2021-09-10T08:00:52.963936Z",
     "iopub.status.busy": "2021-09-10T08:00:52.963369Z",
     "iopub.status.idle": "2021-09-10T08:00:53.615492Z",
     "shell.execute_reply": "2021-09-10T08:00:53.614612Z",
     "shell.execute_reply.started": "2021-09-10T08:00:52.963897Z"
    }
   },
   "outputs": [],
   "source": [
    "from sklearn.model_selection import train_test_split\n",
    "x_train,x_test,y_train,y_test = train_test_split(x,y,test_size=0.2,random_state = 10)"
   ]
  },
  {
   "cell_type": "code",
   "execution_count": 58,
   "metadata": {
    "execution": {
     "iopub.execute_input": "2021-09-10T08:00:53.617193Z",
     "iopub.status.busy": "2021-09-10T08:00:53.616833Z",
     "iopub.status.idle": "2021-09-10T08:00:53.893971Z",
     "shell.execute_reply": "2021-09-10T08:00:53.892725Z",
     "shell.execute_reply.started": "2021-09-10T08:00:53.617156Z"
    }
   },
   "outputs": [
    {
     "data": {
      "text/plain": [
       "0.8516171025038304"
      ]
     },
     "execution_count": 58,
     "metadata": {},
     "output_type": "execute_result"
    }
   ],
   "source": [
    "from sklearn.linear_model import LinearRegression\n",
    "lr_clf = LinearRegression()\n",
    "lr_clf.fit(x_train,y_train)\n",
    "lr_clf.score(x_test,y_test)"
   ]
  },
  {
   "cell_type": "markdown",
   "metadata": {},
   "source": [
    "**Use K Fold cross validation to measure accuracy of our LinearRegression model**"
   ]
  },
  {
   "cell_type": "code",
   "execution_count": 59,
   "metadata": {
    "execution": {
     "iopub.execute_input": "2021-09-10T08:00:53.895846Z",
     "iopub.status.busy": "2021-09-10T08:00:53.895491Z",
     "iopub.status.idle": "2021-09-10T08:00:54.265119Z",
     "shell.execute_reply": "2021-09-10T08:00:54.264154Z",
     "shell.execute_reply.started": "2021-09-10T08:00:53.895809Z"
    }
   },
   "outputs": [
    {
     "data": {
      "text/plain": [
       "array([0.80780261, 0.83990261, 0.89064743, 0.86459025, 0.80441704])"
      ]
     },
     "execution_count": 59,
     "metadata": {},
     "output_type": "execute_result"
    }
   ],
   "source": [
    "from sklearn.model_selection import ShuffleSplit\n",
    "from sklearn.model_selection import cross_val_score\n",
    "cv = ShuffleSplit(n_splits=5, test_size=0.2, random_state=0)\n",
    "cross_val_score(LinearRegression(), x, y, cv=cv)"
   ]
  },
  {
   "cell_type": "markdown",
   "metadata": {},
   "source": [
    "We can see that in 5 iterations we get a score above 80% all the time. This is pretty good but we want to test few other algorithms for regression to see if we can get even better score. We will use GridSearchCV for this purpose"
   ]
  },
  {
   "cell_type": "markdown",
   "metadata": {},
   "source": [
    "### Find best model using GridSearchCV"
   ]
  },
  {
   "cell_type": "code",
   "execution_count": 60,
   "metadata": {
    "execution": {
     "iopub.execute_input": "2021-09-10T08:00:54.267514Z",
     "iopub.status.busy": "2021-09-10T08:00:54.266781Z",
     "iopub.status.idle": "2021-09-10T08:00:58.336696Z",
     "shell.execute_reply": "2021-09-10T08:00:58.335919Z",
     "shell.execute_reply.started": "2021-09-10T08:00:54.267460Z"
    }
   },
   "outputs": [
    {
     "data": {
      "text/html": [
       "<div>\n",
       "<style scoped>\n",
       "    .dataframe tbody tr th:only-of-type {\n",
       "        vertical-align: middle;\n",
       "    }\n",
       "\n",
       "    .dataframe tbody tr th {\n",
       "        vertical-align: top;\n",
       "    }\n",
       "\n",
       "    .dataframe thead th {\n",
       "        text-align: right;\n",
       "    }\n",
       "</style>\n",
       "<table border=\"1\" class=\"dataframe\">\n",
       "  <thead>\n",
       "    <tr style=\"text-align: right;\">\n",
       "      <th></th>\n",
       "      <th>model</th>\n",
       "      <th>best_score</th>\n",
       "      <th>best_params</th>\n",
       "    </tr>\n",
       "  </thead>\n",
       "  <tbody>\n",
       "    <tr>\n",
       "      <th>0</th>\n",
       "      <td>linear_regression</td>\n",
       "      <td>0.84</td>\n",
       "      <td>{'normalize': True}</td>\n",
       "    </tr>\n",
       "    <tr>\n",
       "      <th>1</th>\n",
       "      <td>lasso</td>\n",
       "      <td>0.74</td>\n",
       "      <td>{'alpha': 1, 'selection': 'random'}</td>\n",
       "    </tr>\n",
       "    <tr>\n",
       "      <th>2</th>\n",
       "      <td>decision_tree</td>\n",
       "      <td>0.71</td>\n",
       "      <td>{'criterion': 'mse', 'splitter': 'best'}</td>\n",
       "    </tr>\n",
       "  </tbody>\n",
       "</table>\n",
       "</div>"
      ],
      "text/plain": [
       "               model  best_score                               best_params\n",
       "0  linear_regression        0.84                       {'normalize': True}\n",
       "1              lasso        0.74       {'alpha': 1, 'selection': 'random'}\n",
       "2      decision_tree        0.71  {'criterion': 'mse', 'splitter': 'best'}"
      ]
     },
     "execution_count": 60,
     "metadata": {},
     "output_type": "execute_result"
    }
   ],
   "source": [
    "from sklearn.model_selection import GridSearchCV\n",
    "\n",
    "from sklearn.linear_model import Lasso\n",
    "from sklearn.tree import DecisionTreeRegressor\n",
    "\n",
    "def find_best_model_using_gridsearchcv(X,y):\n",
    "    algos = {\n",
    "        'linear_regression' : {\n",
    "            'model': LinearRegression(),\n",
    "            'params': {\n",
    "                'normalize': [True, False]\n",
    "            }\n",
    "        },\n",
    "        'lasso': {\n",
    "            'model': Lasso(),\n",
    "            'params': {\n",
    "                'alpha': [1,2],\n",
    "                'selection': ['random', 'cyclic']\n",
    "            }\n",
    "        },\n",
    "        'decision_tree': {\n",
    "            'model': DecisionTreeRegressor(),\n",
    "            'params': {\n",
    "                'criterion' : ['mse','friedman_mse'],\n",
    "                'splitter': ['best','random']\n",
    "            }\n",
    "        }\n",
    "    }\n",
    "    scores = []\n",
    "    cv = ShuffleSplit(n_splits=5, test_size=0.2, random_state=0)\n",
    "    for algo_name, config in algos.items():\n",
    "        gs =  GridSearchCV(config['model'], config['params'], cv=cv, return_train_score=False)\n",
    "        gs.fit(X,y)\n",
    "        scores.append({\n",
    "            'model': algo_name,\n",
    "            'best_score': gs.best_score_,\n",
    "            'best_params': gs.best_params_\n",
    "        })\n",
    "\n",
    "    return pd.DataFrame(scores,columns=['model','best_score','best_params'])\n",
    "\n",
    "find_best_model_using_gridsearchcv(x,y)"
   ]
  },
  {
   "cell_type": "markdown",
   "metadata": {},
   "source": [
    "\n",
    "Based on above results we can say that LinearRegression gives the best score. Hence we will use that."
   ]
  },
  {
   "cell_type": "markdown",
   "metadata": {},
   "source": [
    "**Test the model for few properties**"
   ]
  },
  {
   "cell_type": "code",
   "execution_count": 61,
   "metadata": {
    "execution": {
     "iopub.execute_input": "2021-09-10T08:00:58.338285Z",
     "iopub.status.busy": "2021-09-10T08:00:58.337948Z",
     "iopub.status.idle": "2021-09-10T08:00:58.344115Z",
     "shell.execute_reply": "2021-09-10T08:00:58.342993Z",
     "shell.execute_reply.started": "2021-09-10T08:00:58.338251Z"
    }
   },
   "outputs": [],
   "source": [
    "def predict_price(location,sqft,bath,bhk):    \n",
    "    loc_index = np.where(x.columns==location)[0][0]\n",
    "\n",
    "    z = np.zeros(len(x.columns))\n",
    "    z[0] = sqft\n",
    "    z[1] = bath\n",
    "    z[2] = bhk\n",
    "    if loc_index >= 0:\n",
    "        z[loc_index] = 1\n",
    "\n",
    "    return lr_clf.predict([z])[0]"
   ]
  },
  {
   "cell_type": "code",
   "execution_count": 62,
   "metadata": {
    "execution": {
     "iopub.execute_input": "2021-09-10T08:00:58.346002Z",
     "iopub.status.busy": "2021-09-10T08:00:58.345609Z",
     "iopub.status.idle": "2021-09-10T08:00:58.357279Z",
     "shell.execute_reply": "2021-09-10T08:00:58.356302Z",
     "shell.execute_reply.started": "2021-09-10T08:00:58.345967Z"
    }
   },
   "outputs": [
    {
     "data": {
      "text/plain": [
       "89.03984560503284"
      ]
     },
     "execution_count": 62,
     "metadata": {},
     "output_type": "execute_result"
    }
   ],
   "source": [
    "predict_price('1st Phase JP Nagar',1000, 3, 3)"
   ]
  },
  {
   "cell_type": "code",
   "execution_count": 63,
   "metadata": {
    "execution": {
     "iopub.execute_input": "2021-09-10T08:00:58.359758Z",
     "iopub.status.busy": "2021-09-10T08:00:58.359043Z",
     "iopub.status.idle": "2021-09-10T08:00:58.367324Z",
     "shell.execute_reply": "2021-09-10T08:00:58.366334Z",
     "shell.execute_reply.started": "2021-09-10T08:00:58.359687Z"
    }
   },
   "outputs": [
    {
     "data": {
      "text/plain": [
       "171.03873526076646"
      ]
     },
     "execution_count": 63,
     "metadata": {},
     "output_type": "execute_result"
    }
   ],
   "source": [
    "predict_price('Indira Nagar',1000, 2, 2)"
   ]
  },
  {
   "cell_type": "code",
   "execution_count": 64,
   "metadata": {
    "execution": {
     "iopub.execute_input": "2021-09-10T08:00:58.369225Z",
     "iopub.status.busy": "2021-09-10T08:00:58.368749Z",
     "iopub.status.idle": "2021-09-10T08:00:58.376542Z",
     "shell.execute_reply": "2021-09-10T08:00:58.375446Z",
     "shell.execute_reply.started": "2021-09-10T08:00:58.369182Z"
    }
   },
   "outputs": [
    {
     "data": {
      "text/plain": [
       "173.73758302339297"
      ]
     },
     "execution_count": 64,
     "metadata": {},
     "output_type": "execute_result"
    }
   ],
   "source": [
    "predict_price('Indira Nagar',1000, 3, 3)"
   ]
  },
  {
   "cell_type": "markdown",
   "metadata": {},
   "source": [
    "### Export the tested model to a pickle file"
   ]
  },
  {
   "cell_type": "code",
   "execution_count": 65,
   "metadata": {
    "execution": {
     "iopub.execute_input": "2021-09-10T08:00:58.378574Z",
     "iopub.status.busy": "2021-09-10T08:00:58.377997Z",
     "iopub.status.idle": "2021-09-10T08:00:58.384012Z",
     "shell.execute_reply": "2021-09-10T08:00:58.383119Z",
     "shell.execute_reply.started": "2021-09-10T08:00:58.378535Z"
    }
   },
   "outputs": [],
   "source": [
    "import pickle\n",
    "with open('banglore_home_prices_model.pickle','wb') as f:\n",
    "    pickle.dump(lr_clf,f)"
   ]
  },
  {
   "cell_type": "markdown",
   "metadata": {},
   "source": [
    "**Export location and column information to a file that will be useful later on in our prediction application**"
   ]
  },
  {
   "cell_type": "code",
   "execution_count": 66,
   "metadata": {
    "execution": {
     "iopub.execute_input": "2021-09-10T08:00:58.386131Z",
     "iopub.status.busy": "2021-09-10T08:00:58.385443Z",
     "iopub.status.idle": "2021-09-10T08:00:58.392276Z",
     "shell.execute_reply": "2021-09-10T08:00:58.391375Z",
     "shell.execute_reply.started": "2021-09-10T08:00:58.386035Z"
    }
   },
   "outputs": [],
   "source": [
    "import json\n",
    "columns = {\n",
    "    'data_columns' : [col.lower() for col in x.columns]\n",
    "}\n",
    "with open(\"columns.json\",\"w\") as f:\n",
    "    f.write(json.dumps(columns))"
   ]
  }
 ],
 "metadata": {
  "kernelspec": {
   "display_name": "Python 3 (ipykernel)",
   "language": "python",
   "name": "python3"
  },
  "language_info": {
   "codemirror_mode": {
    "name": "ipython",
    "version": 3
   },
   "file_extension": ".py",
   "mimetype": "text/x-python",
   "name": "python",
   "nbconvert_exporter": "python",
   "pygments_lexer": "ipython3",
   "version": "3.9.6"
  }
 },
 "nbformat": 4,
 "nbformat_minor": 4
}
